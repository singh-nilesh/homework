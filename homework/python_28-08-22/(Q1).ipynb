{
 "cells": [
  {
   "cell_type": "markdown",
   "metadata": {},
   "source": [
    "# Python homework"
   ]
  },
  {
   "cell_type": "markdown",
   "metadata": {},
   "source": [
    "Q1: Write a python program to find the average of three numbers"
   ]
  },
  {
   "cell_type": "code",
   "execution_count": 8,
   "metadata": {},
   "outputs": [
    {
     "name": "stdout",
     "output_type": "stream",
     "text": [
      "Average of three numbers is 76.06666666666666\n"
     ]
    }
   ],
   "source": [
    "# This program displays average of 3 number, that are recived as input (56.9,86.3,85)\n",
    "no1=float(input('Enter first number'))\n",
    "no2=float(input('Enter second number'))\n",
    "no3=float(input('Enter third number'))\n",
    "\n",
    "avg=(no1+no2+no3)/3\n",
    "print('Average of three numbers is', avg)"
   ]
  },
  {
   "cell_type": "markdown",
   "metadata": {},
   "source": [
    "Q2:Write a program to convert the distane from KM to meters"
   ]
  },
  {
   "cell_type": "code",
   "execution_count": 21,
   "metadata": {},
   "outputs": [
    {
     "name": "stdout",
     "output_type": "stream",
     "text": [
      "distance in m is 5690.0 m.\n"
     ]
    }
   ],
   "source": [
    "# This program converts distance in Km to m, (distance=5.69Km)\n",
    "dis_Km=float(input(\"Enter distance in Km:\"))\n",
    "dis_m=dis_Km*1000\n",
    "print(\"distance in m is\",dis_m,\"m.\")"
   ]
  },
  {
   "cell_type": "markdown",
   "metadata": {},
   "source": [
    "Q3:Write a python program to convert time from hours to seconds:"
   ]
  },
  {
   "cell_type": "code",
   "execution_count": 2,
   "metadata": {},
   "outputs": [
    {
     "name": "stdout",
     "output_type": "stream",
     "text": [
      "time in seconds is 11700.0 s\n"
     ]
    }
   ],
   "source": [
    "# This is a program to convert time in hours to seconds, (hours=3.25)\n",
    "time_h=float(input(\"Enter time in hours:\"))\n",
    "time_s=time_h*3600\n",
    "print(\"time in seconds is\",time_s,\"s\")"
   ]
  },
  {
   "cell_type": "markdown",
   "metadata": {},
   "source": [
    "Q4:Write a python program to accept length,breadth and height of a\n",
    "box and print its area and volume"
   ]
  },
  {
   "cell_type": "code",
   "execution_count": 14,
   "metadata": {},
   "outputs": [
    {
     "name": "stdout",
     "output_type": "stream",
     "text": [
      "Total surface area and Volume of the box is 294.28 meter-square, 331.632 meter-cube respectivly.\n"
     ]
    }
   ],
   "source": [
    "# This program accepts length,breadth and height of a box to print is area and volume.\n",
    "# (l=5.6m,b=9.4m,h=6.3m)\n",
    "l=float(input(\"Enter length of the box(in meters):\"))\n",
    "h=float(input(\"Enter height of the box(in meters):\"))\n",
    "b=float(input(\"Enter breadth/width of the box(in meters):\"))\n",
    "area=(l*b+b*h+h*l)*2\n",
    "volume=l*b*h\n",
    "print(\"Total surface area and Volume of the box is\",area,'meter-square,',volume,'meter-cube respectivly.')"
   ]
  },
  {
   "cell_type": "markdown",
   "metadata": {},
   "source": [
    "Q5:Write a python program to calculate the total distance travelled by a\n",
    "vehical in t seconds is given by \"distance=ut+[a(t)^2]*1/2\""
   ]
  },
  {
   "cell_type": "code",
   "execution_count": 1,
   "metadata": {},
   "outputs": [
    {
     "name": "stdout",
     "output_type": "stream",
     "text": [
      "Distance traveled by vehical is 199.20000000000002 m.\n"
     ]
    }
   ],
   "source": [
    "# This program calculates the total distance travelled by a vehical in t seconds as per formula,\n",
    "# formula{ s=ut+[a(t)^2]/2 }   (t=6s, a=9.4m/s^2, u=5m/s)\n",
    "t=float(input('Enter time in seconds:'))\n",
    "a=float(input('enter acceleration of vehical in m/s^2:'))\n",
    "u=float(input('Enter initial velocity in m/s:'))\n",
    "s=u*t+(a*(t)**2)/2\n",
    "print('Distance traveled by vehical is',s,'m.')"
   ]
  },
  {
   "cell_type": "markdown",
   "metadata": {},
   "source": [
    "Q6:Write a python to print a number and its square:"
   ]
  },
  {
   "cell_type": "code",
   "execution_count": 18,
   "metadata": {},
   "outputs": [
    {
     "name": "stdout",
     "output_type": "stream",
     "text": [
      "the number that you entered is 96.0\n",
      "Square of this number is 9216.0\n"
     ]
    }
   ],
   "source": [
    "# This program print the number and its square on reciving input. (no.=96)\n",
    "no=float(input('Enter any number:'))\n",
    "no_square=no**2\n",
    "print('the number that you entered is',no)\n",
    "print('Square of this number is',no_square)"
   ]
  },
  {
   "cell_type": "markdown",
   "metadata": {},
   "source": [
    "Q7:Wite a python program to find the sum, subtraction, division and\n",
    "product of two numbers."
   ]
  },
  {
   "cell_type": "code",
   "execution_count": 5,
   "metadata": {},
   "outputs": [
    {
     "name": "stdout",
     "output_type": "stream",
     "text": [
      "sum of two numbers is 150.2 \t\t diffrence in two numbers is -37.4\n",
      "no.1 divides no.2= 0.6012793176972282 \t no.2 divides no.1= 1.6631205673758864\n",
      "product of two numbers is 5290.32\n"
     ]
    }
   ],
   "source": [
    "# this program is designed to find sum, subtration, division and product of two numbers.\n",
    "#  (1st number=56.4   2nd number=93.8)\n",
    "no_1=float(input('Enter 1st number:'))\n",
    "no_2=float(input('enter 2nd number:'))\n",
    "sum=no_1+no_2\n",
    "subtration=no_1-no_2\n",
    "division_1=no_1/no_2\n",
    "division_2=no_2/no_1\n",
    "product=no_1*no_2\n",
    "print(\"sum of two numbers is\",sum,'\\t\\t diffrence in two numbers is',subtration)\n",
    "print ('no.1 divides no.2=',division_1,'\\t no.2 divides no.1=',division_2)\n",
    "print('product of two numbers is',product)"
   ]
  }
 ],
 "metadata": {
  "kernelspec": {
   "display_name": "Python 3.10.6 64-bit",
   "language": "python",
   "name": "python3"
  },
  "language_info": {
   "codemirror_mode": {
    "name": "ipython",
    "version": 3
   },
   "file_extension": ".py",
   "mimetype": "text/x-python",
   "name": "python",
   "nbconvert_exporter": "python",
   "pygments_lexer": "ipython3",
   "version": "3.10.6"
  },
  "orig_nbformat": 4,
  "vscode": {
   "interpreter": {
    "hash": "608414fe1c3f254b1a6860610d88ca30cbf3a4cc9500ae624968d2dab8956d95"
   }
  }
 },
 "nbformat": 4,
 "nbformat_minor": 2
}
