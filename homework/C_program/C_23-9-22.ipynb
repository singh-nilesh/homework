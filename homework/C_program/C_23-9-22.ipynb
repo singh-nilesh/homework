{
 "cells": [
  {
   "cell_type": "markdown",
   "metadata": {},
   "source": [
    "pattern 1"
   ]
  },
  {
   "cell_type": "code",
   "execution_count": null,
   "metadata": {},
   "outputs": [],
   "source": [
    "#include<stdio.h>\n",
    "#include<conio.h>\n",
    "void main()\n",
    "{\n",
    "    char i, j;\n",
    "    for(i=1;i<=3;i++)\n",
    "    {\n",
    "        for(j=1;j<=4;j++)\n",
    "        {\n",
    "            printf(\"* \");\n",
    "        }\n",
    "        printf(\"\\n\");\n",
    "    }\n",
    "    getch();\n",
    "}"
   ]
  },
  {
   "cell_type": "markdown",
   "metadata": {},
   "source": [
    "pattern 2"
   ]
  },
  {
   "cell_type": "code",
   "execution_count": null,
   "metadata": {},
   "outputs": [],
   "source": [
    "#include<stdio.h>\n",
    "#include<conio.h>\n",
    "void main()\n",
    "{\n",
    "    char i,j,k;\n",
    "    for(i=1;i,i<=4;i++)\n",
    "    {\n",
    "        for(j=4-i;j>0;j--)\n",
    "        {\n",
    "            printf(\" \");\n",
    "        }\n",
    "        for(k=1;k<=i;k++)\n",
    "        {\n",
    "            printf(\"* \");\n",
    "        }\n",
    "        printf(\"\\n\");\n",
    "    }\n",
    "    getch();\n",
    "}"
   ]
  },
  {
   "cell_type": "markdown",
   "metadata": {},
   "source": [
    "pattern 3"
   ]
  },
  {
   "cell_type": "code",
   "execution_count": null,
   "metadata": {},
   "outputs": [],
   "source": [
    "#include<stdio.h>\n",
    "#include<conio.h>\n",
    "void main()\n",
    "{\n",
    "    char i,j,k;\n",
    "    for(i=1;i<5;i++)\n",
    "    {\n",
    "        for(j=0;j<=i-1;j++)\n",
    "        {\n",
    "            printf(\" \");\n",
    "        }\n",
    "        for(k=4;k>=i;k--)\n",
    "        {\n",
    "            printf(\"* \");\n",
    "        }\n",
    "        printf(\"\\n\");\n",
    "    }\n",
    "    getch();\n",
    "}"
   ]
  },
  {
   "cell_type": "markdown",
   "metadata": {},
   "source": [
    "pattern 4"
   ]
  },
  {
   "cell_type": "code",
   "execution_count": null,
   "metadata": {},
   "outputs": [],
   "source": [
    "#include<stdio.h>\n",
    "#include<conio.h>\n",
    "void main()\n",
    "{\n",
    "    char i,j;\n",
    "    for(i=1;i<5;i++)\n",
    "    {\n",
    "        for(j=1;j<=i;j++)\n",
    "        {\n",
    "            printf(\"* \");\n",
    "        }\n",
    "        printf(\"\\n\");\n",
    "    }\n",
    "    getch();\n",
    "}"
   ]
  },
  {
   "cell_type": "markdown",
   "metadata": {},
   "source": [
    "fibonacci series"
   ]
  },
  {
   "cell_type": "code",
   "execution_count": null,
   "metadata": {},
   "outputs": [],
   "source": [
    "// This is a program to print fibonacci series\n",
    "#include<stdio.h>\n",
    "#include<conio.h>\n",
    "void main()\n",
    "{\n",
    "    int no,sum=1,n1=0,n2=1;\n",
    "    printf(\"Enter the number: \");\n",
    "    scanf(\"%d\",&no);\n",
    "    while(sum<=no)\n",
    "        {\n",
    "            printf(\"%d, \",sum);\n",
    "            sum=n1+n2;\n",
    "            n1=n2;\n",
    "            n2=sum;\n",
    "        }\n",
    "    getch();\n",
    "}"
   ]
  },
  {
   "cell_type": "markdown",
   "metadata": {},
   "source": [
    "add factorial of sries"
   ]
  },
  {
   "cell_type": "code",
   "execution_count": null,
   "metadata": {},
   "outputs": [],
   "source": [
    "// This is a program to add the factorial of a series\n",
    "#include<stdio.h>\n",
    "#include<conio.h>\n",
    "void main()\n",
    "{\n",
    "    int no,j=1,i=1,product=1,sum=0;\n",
    "    printf(\"Enter the number: \");\n",
    "    scanf(\"%d\",&no);\n",
    "    while(i<=no)//adding all factorial\n",
    "    {\n",
    "        while(j<=i)\n",
    "        {\n",
    "            product=product*j;\n",
    "            j=j+1;\n",
    "        }\n",
    "        sum=sum+product;\n",
    "        i=i+1;\n",
    "    }\n",
    "    printf(\"sum of factorial till %d is %d.\",no,sum);\n",
    "    getch();\n",
    "}"
   ]
  },
  {
   "cell_type": "markdown",
   "metadata": {},
   "source": [
    "add prime number"
   ]
  },
  {
   "cell_type": "code",
   "execution_count": null,
   "metadata": {},
   "outputs": [],
   "source": [
    "// This is a program to add prime number till n\n",
    "#include<stdio.h>\n",
    "#include<conio.h>\n",
    "void main()\n",
    "{\n",
    "    int no,div,i=2,sum=0,prime;\n",
    "    printf(\"Enter the number: \");\n",
    "    scanf(\"%d\",&no);\n",
    "    while(i<=no)\n",
    "    {\n",
    "        prime=1;\n",
    "        for(div=2;div<=i/2;div++)\n",
    "        {\n",
    "            if(i%div==0)\n",
    "            {\n",
    "                prime=0;\n",
    "                break;\n",
    "            }\n",
    "        }\n",
    "        if (prime==1)\n",
    "        {\n",
    "            sum=sum+i;\n",
    "        }\n",
    "        i=i+1;\n",
    "    }\n",
    "    printf(\"sum of prime numberes till %d is %d\",no,sum);\n",
    "    getch();\n",
    "}"
   ]
  },
  {
   "cell_type": "markdown",
   "metadata": {},
   "source": [
    "nCr and nPr of a number"
   ]
  },
  {
   "cell_type": "code",
   "execution_count": null,
   "metadata": {},
   "outputs": [],
   "source": [
    "// This is a program to finf nCr and nPr\n",
    "#include<stdio.h>\n",
    "#include<conio.h>\n",
    "void main()\n",
    "{\n",
    "    int no,r,i;\n",
    "    float nCr,nPr;\n",
    "    long int fact_no=1,fact_no_r=1,fact_r=1;\n",
    "    printf(\"Enter the value of no and r: \");\n",
    "    scanf(\"%d%d\",&no,&r);\n",
    "    for (i=1; i<=no; i++)\n",
    "    {\n",
    "        fact_no=fact_no*i;\n",
    "    }\n",
    "    for (i=1; i<=r; i++)\n",
    "    {\n",
    "        fact_r=fact_r*i;\n",
    "    }\n",
    "    for (i=1; i<=(no-r); i++)\n",
    "    {\n",
    "        fact_no_r=fact_no_r*i;\n",
    "    }\n",
    "    nCr=(float)(fact_no/fact_no_r);\n",
    "    nPr=(float)(fact_no/(fact_no_r*fact_r));\n",
    "    \n",
    "    printf(\"nCr = %f \\n nPr = %f\",nCr,nPr);\n",
    "    getch();\n",
    "}"
   ]
  },
  {
   "cell_type": "markdown",
   "metadata": {},
   "source": [
    "nCr & nPr II"
   ]
  },
  {
   "cell_type": "code",
   "execution_count": null,
   "metadata": {},
   "outputs": [],
   "source": [
    "#include<stdio.h>\n",
    "#include<conio.h>\n",
    "void main()\n",
    "{\n",
    "    int no,i,j,r;\n",
    "    float nCr,nPr;\n",
    "    long int fact=1, fact_r,fact_no_r;\n",
    "    printf(\"Enter number and r: \");\n",
    "    scanf(\"%d%d\",&no,&r);\n",
    "    j=no;\n",
    "    for (i=1; i<=j; i++)\n",
    "    {\n",
    "        fact=fact*i;\n",
    "        if (i==r)\n",
    "        {\n",
    "            fact_r=fact;\n",
    "        }\n",
    "        if (i==(no-r))\n",
    "        {\n",
    "            fact_no_r=fact;\n",
    "        }\n",
    "    }\n",
    "    nCr=(float)(fact/fact_no_r);\n",
    "    nPr=(float)(fact/(fact_no_r*fact_r));\n",
    "    printf(\"nCr=%f \\n nPr=%f\",nCr,nPr);\n",
    "    getch();\n",
    "}"
   ]
  },
  {
   "cell_type": "markdown",
   "metadata": {},
   "source": [
    "nCr & nPr III"
   ]
  },
  {
   "cell_type": "code",
   "execution_count": null,
   "metadata": {},
   "outputs": [],
   "source": [
    "#include<stdio.h>\n",
    "long int factorial(int n);\n",
    "int main()\n",
    "{\n",
    "long int fact1=1, fact2=1, fact3=1;\n",
    "int var, n, r;\n",
    "float c, p;\n",
    "printf(\"Enter n and r: \");\n",
    "scanf(\"%d %d\", &n, &r);\n",
    "var = n-r;\n",
    "fact1 = factorial(n);\n",
    "fact2 = factorial(r);\n",
    "fact3 = factorial(var);\n",
    "p = (float)fact1/fact3;\n",
    "c = (float)fact1/(fact2*fact3);\n",
    "printf(\"The Permutation is: %f.\\n\",p);\n",
    "printf(\"The Combination is: %f.\\n\",c);\n",
    "return 0;\n",
    "}\n",
    "\n",
    "\n",
    "long int factorial(int n)\n",
    "{\n",
    "long int fact=1;\n",
    "int i;\n",
    "for(i=1;i<=n;i++)\n",
    "{\n",
    "fact=fact*i;\n",
    "}\n",
    "return fact;\n",
    "}"
   ]
  }
 ],
 "metadata": {
  "kernelspec": {
   "display_name": "Python 3.10.0 64-bit",
   "language": "python",
   "name": "python3"
  },
  "language_info": {
   "name": "python",
   "version": "3.10.0"
  },
  "orig_nbformat": 4,
  "vscode": {
   "interpreter": {
    "hash": "3bd13bc16400e16874b7ce28af58a129343287e94248a182c1f06fbb6b76ef8e"
   }
  }
 },
 "nbformat": 4,
 "nbformat_minor": 2
}
