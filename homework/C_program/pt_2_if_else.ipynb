{
 "cells": [
  {
   "cell_type": "markdown",
   "metadata": {},
   "source": [
    "number is od or even\n"
   ]
  },
  {
   "cell_type": "code",
   "execution_count": null,
   "metadata": {},
   "outputs": [],
   "source": [
    "//this is a program to see if a number is od or even\n",
    "\n",
    "#include<stdio.h>\n",
    "#include<conio.h>\n",
    "\n",
    "void main()\n",
    "{\n",
    "    int no;\n",
    "    printf(\"Enter a number: \");\n",
    "    scanf(\"%d\",&no);\n",
    "    if (no%2==0)\n",
    "        printf(\" The number %d is an even number.\",no);\n",
    "    else\n",
    "        printf(\"The number %d is an odd number.\",no);\n",
    "    getch();\n",
    "}"
   ]
  },
  {
   "cell_type": "markdown",
   "metadata": {},
   "source": [
    "determine the type of triangle"
   ]
  },
  {
   "cell_type": "code",
   "execution_count": null,
   "metadata": {},
   "outputs": [],
   "source": [
    "// this is a program to determine the type of triangle\n",
    "\n",
    "#include<stdio.h>\n",
    "#include<conio.h>\n",
    "\n",
    "void main()\n",
    "{\n",
    "    float s1,s2,s3;\n",
    "    printf(\"Enter length of three sides: \");\n",
    "    scanf(\"%f%f%f\",&s1,&s2,&s3);\n",
    "    if (s1+s2>s3 && s2+s3>s1 && s3+s1>s2)\n",
    "    {\n",
    "        if (s1==s2 && s2==s3)\n",
    "            printf(\"The triangle is an equilateral triangle.\");\n",
    "        else if (s1==s2 || s2==s3 || s3==s1)\n",
    "            printf(\"The triangle is an Isosceles triangle.\");\n",
    "        else if (s1!=s2 && s2!=s3 && s3!=s1)\n",
    "            printf(\"The triangle is a scalene triangle\"); \n",
    "    }\n",
    "    else\n",
    "        printf(\"The entered sides are not of a triangle\");\n",
    "}"
   ]
  },
  {
   "cell_type": "markdown",
   "metadata": {},
   "source": [
    "program to mimic calculator"
   ]
  },
  {
   "cell_type": "code",
   "execution_count": null,
   "metadata": {},
   "outputs": [],
   "source": [
    "// This is a program to mimic calculator\n",
    "\n",
    "#include<stdio.h>\n",
    "#include<conio.h>\n",
    "\n",
    "void main()\n",
    "{\n",
    "    float no_1,no_2;\n",
    "    char OP;\n",
    "    printf(\"Enter the operator: \");\n",
    "    scanf(\"%c\",&OP);\n",
    "    printf(\"Enter the two numbers: \");\n",
    "    scanf(\"%f%f\",&no_1,&no_2);\n",
    "\n",
    "    if (OP=='+')\n",
    "        printf(\"sum = %f\",no_1+no_2);\n",
    "    \n",
    "    else if (OP=='-')\n",
    "    {   if(no_1-no_2)\n",
    "            printf(\"diffrence = %f\",no_1-no_2);\n",
    "        else\n",
    "            printf(\"diffrence = %f\",no_2-no_1);\n",
    "    }\n",
    "    else if(OP=='*')\n",
    "        printf(\"Product = %f\",no_1*no_2);\n",
    "    \n",
    "    else if (OP=='/')\n",
    "    {   if(no_1/no_2)\n",
    "            printf(\"div = %f\",no_1/no_2);\n",
    "        else\n",
    "            printf(\"div = %f\",no_2/no_1);\n",
    "    }\n",
    "}"
   ]
  },
  {
   "cell_type": "markdown",
   "metadata": {},
   "source": [
    "identify is a enter data is a letter, number, or special char."
   ]
  },
  {
   "cell_type": "code",
   "execution_count": null,
   "metadata": {},
   "outputs": [],
   "source": [
    "// this is a program to identify is a enter data is a letter, number, or special char.\n",
    "\n",
    "#include<stdio.h>\n",
    "#include<conio.h>\n",
    "\n",
    "void main()\n",
    "{\n",
    "    char box;\n",
    "    printf(\"Enter any-thingh you wish: \");\n",
    "    scanf(\"%c\",&box);\n",
    "    if ((box>='a' && box<='z') || (box>='A' && box<='Z'))\n",
    "        printf(\" %c is an alphabet\",box);\n",
    "    else if (box>='0' && box<='9')\n",
    "        printf(\" %c is a number\",box);\n",
    "    else\n",
    "        printf(\" %c is a special char\",box);\n",
    "    getch();\n",
    "}"
   ]
  },
  {
   "cell_type": "markdown",
   "metadata": {},
   "source": [
    "displays max of 3 numbers"
   ]
  },
  {
   "cell_type": "code",
   "execution_count": null,
   "metadata": {},
   "outputs": [],
   "source": [
    "// This program displays max of 3 numbers\n",
    "\n",
    "#include<stdio.h>\n",
    "#include<conio.h>\n",
    "\n",
    "void main()\n",
    "{\n",
    "    float no_1,no_2,no_3;\n",
    "    printf(\"Enter three numbers: \");\n",
    "    scanf(\"%f%f%f\",&no_1,&no_2,&no_3);\n",
    "\n",
    "    if (no_1==no_2 && no_2==no_3)\n",
    "        printf(\" All three number are equal in value\");\n",
    "    else if (no_1>no_2 && no_1>no_3)\n",
    "        printf(\"%f is greatest among all three\",no_1);\n",
    "    else if (no_2>no_3)\n",
    "        printf(\"%f is greatest among three number\",no_2);\n",
    "    else \n",
    "        printf(\" %f is greatest among three number\",no_3);\n",
    "}"
   ]
  },
  {
   "cell_type": "markdown",
   "metadata": {},
   "source": [
    "checks if a year is leap year or not"
   ]
  },
  {
   "cell_type": "code",
   "execution_count": null,
   "metadata": {},
   "outputs": [],
   "source": [
    "// This program checks if a year is leap year or not\n",
    "\n",
    "#include<stdio.h>\n",
    "#include<conio.h>\n",
    "\n",
    "void main()\n",
    "{\n",
    "    int year;\n",
    "    printf(\"Enter a year: \");\n",
    "    scanf(\"%d\",&year);\n",
    "    if (year%4==0 && year%100!=0 || year%400==0)\n",
    "        printf(\"the year %d is a leap year.\",year);\n",
    "    else\n",
    "        printf(\"The year %d is nat a leap year.\",year);\n",
    "}"
   ]
  }
 ],
 "metadata": {
  "kernelspec": {
   "display_name": "Python 3.10.6 64-bit",
   "language": "python",
   "name": "python3"
  },
  "language_info": {
   "name": "python",
   "version": "3.10.6"
  },
  "orig_nbformat": 4,
  "vscode": {
   "interpreter": {
    "hash": "608414fe1c3f254b1a6860610d88ca30cbf3a4cc9500ae624968d2dab8956d95"
   }
  }
 },
 "nbformat": 4,
 "nbformat_minor": 2
}
