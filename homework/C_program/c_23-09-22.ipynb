{
 "cells": [
  {
   "cell_type": "markdown",
   "metadata": {},
   "source": [
    "pattern 1"
   ]
  },
  {
   "cell_type": "code",
   "execution_count": null,
   "metadata": {},
   "outputs": [],
   "source": [
    "#include<stdio.h>\n",
    "#include<conio.h>\n",
    "void main()\n",
    "{\n",
    "    char i, j;\n",
    "    for(i=1;i<=3;i++)\n",
    "    {\n",
    "        for(j=1;j<=4;j++)\n",
    "        {\n",
    "            printf(\"* \");\n",
    "        }\n",
    "        printf(\"\\n\");\n",
    "    }\n",
    "    getch();\n",
    "}"
   ]
  },
  {
   "cell_type": "markdown",
   "metadata": {},
   "source": [
    "pattern 2"
   ]
  },
  {
   "cell_type": "code",
   "execution_count": null,
   "metadata": {},
   "outputs": [],
   "source": [
    "#include<stdio.h>\n",
    "#include<conio.h>\n",
    "void main()\n",
    "{\n",
    "    char i,j,k;\n",
    "    for(i=1;i,i<=4;i++)\n",
    "    {\n",
    "        for(j=4-i;j>0;j--)\n",
    "        {\n",
    "            printf(\" \");\n",
    "        }\n",
    "        for(k=1;k<=i;k++)\n",
    "        {\n",
    "            printf(\"* \");\n",
    "        }\n",
    "        printf(\"\\n\");\n",
    "    }\n",
    "    getch();\n",
    "}"
   ]
  },
  {
   "cell_type": "markdown",
   "metadata": {},
   "source": [
    "pattern 3"
   ]
  },
  {
   "cell_type": "code",
   "execution_count": null,
   "metadata": {},
   "outputs": [],
   "source": [
    "#include<stdio.h>\n",
    "#include<conio.h>\n",
    "void main()\n",
    "{\n",
    "    char i,j,k;\n",
    "    for(i=1;i<5;i++)\n",
    "    {\n",
    "        for(j=0;j<=i-1;j++)\n",
    "        {\n",
    "            printf(\" \");\n",
    "        }\n",
    "        for(k=4;k>=i;k--)\n",
    "        {\n",
    "            printf(\"* \");\n",
    "        }\n",
    "        printf(\"\\n\");\n",
    "    }\n",
    "    getch();\n",
    "}"
   ]
  },
  {
   "cell_type": "markdown",
   "metadata": {},
   "source": [
    "pattern 4"
   ]
  },
  {
   "cell_type": "code",
   "execution_count": null,
   "metadata": {},
   "outputs": [],
   "source": [
    "#include<stdio.h>\n",
    "#include<conio.h>\n",
    "void main()\n",
    "{\n",
    "    char i,j;\n",
    "    for(i=1;i<5;i++)\n",
    "    {\n",
    "        for(j=1;j<=i;j++)\n",
    "        {\n",
    "            printf(\"* \");\n",
    "        }\n",
    "        printf(\"\\n\");\n",
    "    }\n",
    "    getch();\n",
    "}"
   ]
  },
  {
   "cell_type": "markdown",
   "metadata": {},
   "source": [
    "fibonacci series"
   ]
  },
  {
   "cell_type": "code",
   "execution_count": null,
   "metadata": {},
   "outputs": [],
   "source": [
    "// This is a program to print fibonacci series\n",
    "#include<stdio.h>\n",
    "#include<conio.h>\n",
    "void main()\n",
    "{\n",
    "    int no,sum=1,n1=0,n2=1;\n",
    "    printf(\"Enter the number: \");\n",
    "    scanf(\"%d\",&no);\n",
    "    while(sum<=no)\n",
    "        {\n",
    "            printf(\"%d, \",sum);\n",
    "            sum=n1+n2;\n",
    "            n1=n2;\n",
    "            n2=sum;\n",
    "        }\n",
    "    getch();\n",
    "}"
   ]
  },
  {
   "cell_type": "markdown",
   "metadata": {},
   "source": [
    "add factorial of sries"
   ]
  },
  {
   "cell_type": "code",
   "execution_count": null,
   "metadata": {},
   "outputs": [],
   "source": [
    "// This is a program to add the factorial of a series\n",
    "#include<stdio.h>\n",
    "#include<conio.h>\n",
    "void main()\n",
    "{\n",
    "    int no,j=1,i=1,product=1,sum=0;\n",
    "    printf(\"Enter the number: \");\n",
    "    scanf(\"%d\",&no);\n",
    "    while(i<=no)//adding all factorial\n",
    "    {\n",
    "        while(j<=i)\n",
    "        {\n",
    "            product=product*j;\n",
    "            j=j+1;\n",
    "        }\n",
    "        sum=sum+product;\n",
    "        i=i+1;\n",
    "    }\n",
    "    printf(\"sum of factorial till %d is %d.\",no,sum);\n",
    "    getch();\n",
    "}"
   ]
  },
  {
   "cell_type": "markdown",
   "metadata": {},
   "source": [
    "prime number"
   ]
  },
  {
   "cell_type": "code",
   "execution_count": null,
   "metadata": {},
   "outputs": [],
   "source": [
    "// This is a program to add prime number till n\n",
    "#include<stdio.h>\n",
    "#include<conio.h>\n",
    "void main()\n",
    "{\n",
    "    int no,div,i=2,sum=0,prime;\n",
    "    printf(\"Enter the number: \");\n",
    "    scanf(\"%d\",&no);\n",
    "    while(i<=no)\n",
    "    {\n",
    "        prime=1;\n",
    "        for(div=2;div<=i/2;div++)\n",
    "        {\n",
    "            if(i%div==0)\n",
    "            {\n",
    "                prime=0;\n",
    "                break;\n",
    "            }\n",
    "        }\n",
    "        if (prime==1)\n",
    "        {\n",
    "            sum=sum+i;\n",
    "        }\n",
    "        i=i+1;\n",
    "    }\n",
    "    printf(\"sum of prime numberes till %d is %d\",no,sum);\n",
    "    getch();\n",
    "}"
   ]
  },
  {
   "cell_type": "markdown",
   "metadata": {},
   "source": [
    "nCr and nPr of a number"
   ]
  },
  {
   "cell_type": "code",
   "execution_count": null,
   "metadata": {},
   "outputs": [],
   "source": [
    "// This is a program to finf nCr and nPr\n",
    "#include<stdio.h>\n",
    "#include<conio.h>\n",
    "void main()\n",
    "{\n",
    "    int no,r,i;\n",
    "    float nCr,nPr;\n",
    "    long int fact_no=1,fact_no_r=1,fact_r=1;\n",
    "    printf(\"Enter the value of no and r: \");\n",
    "    scanf(\"%d%d\",&no,&r);\n",
    "    for (i=1; i<=no; i++)\n",
    "    {\n",
    "        fact_no=fact_no*i;\n",
    "    }\n",
    "    for (i=1; i<=r; i++)\n",
    "    {\n",
    "        fact_r=fact_r*i;\n",
    "    }\n",
    "    for (i=1; i<=(no-r); i++)\n",
    "    {\n",
    "        fact_no_r=fact_no_r*i;\n",
    "    }\n",
    "    nCr=(float)(fact_no/fact_no_r);\n",
    "    nPr=(float)(fact_no/(fact_no_r*fact_r));\n",
    "    \n",
    "    printf(\"nCr = %f \\n nPr = %f\",nCr,nPr);\n",
    "    getch();\n",
    "}"
   ]
  },
  {
   "cell_type": "markdown",
   "metadata": {},
   "source": [
    "nCr & nPr II"
   ]
  }
 ],
 "metadata": {
  "kernelspec": {
   "display_name": "Python 3.10.6 64-bit",
   "language": "python",
   "name": "python3"
  },
  "language_info": {
   "name": "python",
   "version": "3.10.6"
  },
  "orig_nbformat": 4,
  "vscode": {
   "interpreter": {
    "hash": "608414fe1c3f254b1a6860610d88ca30cbf3a4cc9500ae624968d2dab8956d95"
   }
  }
 },
 "nbformat": 4,
 "nbformat_minor": 2
}
