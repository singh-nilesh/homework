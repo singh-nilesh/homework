{
 "cells": [
  {
   "cell_type": "markdown",
   "metadata": {},
   "source": [
    "1).This is a program to print natural numbers till n"
   ]
  },
  {
   "cell_type": "code",
   "execution_count": 1,
   "metadata": {},
   "outputs": [
    {
     "name": "stdout",
     "output_type": "stream",
     "text": [
      "1\n",
      "2\n",
      "3\n",
      "4\n",
      "5\n",
      "6\n"
     ]
    }
   ],
   "source": [
    "# This is a program to print natural numbers\n",
    "no=int(input(\"Ente rthe number: \"))\n",
    "#input(6)\n",
    "Nt_no=1\n",
    "while(Nt_no<=no):\n",
    "    print(Nt_no)\n",
    "    Nt_no=Nt_no+1\n"
   ]
  },
  {
   "cell_type": "markdown",
   "metadata": {},
   "source": [
    "2). This is a program to print even natural numbers till n"
   ]
  },
  {
   "cell_type": "code",
   "execution_count": 2,
   "metadata": {},
   "outputs": [
    {
     "name": "stdout",
     "output_type": "stream",
     "text": [
      "0\n",
      "2\n",
      "4\n",
      "6\n"
     ]
    }
   ],
   "source": [
    "# This is a program to print even numbrer till n\n",
    "no=int(input(\"Enter the nnumber: \"))  \n",
    "# input(7)\n",
    "N=0\n",
    "while (N<=no):\n",
    "    print(N)\n",
    "    N=N+2"
   ]
  },
  {
   "cell_type": "markdown",
   "metadata": {},
   "source": [
    "3). This is a program to print odd number till n"
   ]
  },
  {
   "cell_type": "code",
   "execution_count": 3,
   "metadata": {},
   "outputs": [
    {
     "name": "stdout",
     "output_type": "stream",
     "text": [
      "1\n",
      "3\n",
      "5\n"
     ]
    }
   ],
   "source": [
    "#This is a program to print odd numbers\n",
    "no=int(input(\"Enter the number: \"))\n",
    "#input(6)\n",
    "N=1\n",
    "while(N<=no):\n",
    "    print(N)\n",
    "    N=N+2"
   ]
  },
  {
   "cell_type": "markdown",
   "metadata": {},
   "source": [
    "4). This is a program to print sum of even number till n"
   ]
  },
  {
   "cell_type": "code",
   "execution_count": 38,
   "metadata": {},
   "outputs": [
    {
     "name": "stdout",
     "output_type": "stream",
     "text": [
      "Sum of even natural number till 7 is 12\n"
     ]
    }
   ],
   "source": [
    "# This is a program to print sum of even numbers\n",
    "no=int(input(\"Enter the natural number: \"))\n",
    "#input(7)\n",
    "if (no<1):\n",
    "    print(\"%d is not a natural number\"%no)\n",
    "N=0\n",
    "sum=0\n",
    "while (N<=no):\n",
    "    sum=sum+N\n",
    "    N=N+2\n",
    "    if (N>no):\n",
    "        print(\"Sum of even natural number till %d is %d\"%(no,sum))"
   ]
  }
 ],
 "metadata": {
  "kernelspec": {
   "display_name": "Python 3.10.6 64-bit",
   "language": "python",
   "name": "python3"
  },
  "language_info": {
   "codemirror_mode": {
    "name": "ipython",
    "version": 3
   },
   "file_extension": ".py",
   "mimetype": "text/x-python",
   "name": "python",
   "nbconvert_exporter": "python",
   "pygments_lexer": "ipython3",
   "version": "3.10.6"
  },
  "orig_nbformat": 4,
  "vscode": {
   "interpreter": {
    "hash": "608414fe1c3f254b1a6860610d88ca30cbf3a4cc9500ae624968d2dab8956d95"
   }
  }
 },
 "nbformat": 4,
 "nbformat_minor": 2
}
