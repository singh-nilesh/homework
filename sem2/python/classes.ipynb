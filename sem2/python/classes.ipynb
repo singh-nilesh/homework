{
  "nbformat": 4,
  "nbformat_minor": 0,
  "metadata": {
    "colab": {
      "provenance": [],
      "authorship_tag": "ABX9TyNUGLd/cwWflwXVH4i5lRb3",
      "include_colab_link": true
    },
    "kernelspec": {
      "name": "python3",
      "display_name": "Python 3"
    },
    "language_info": {
      "name": "python"
    }
  },
  "cells": [
    {
      "cell_type": "markdown",
      "metadata": {
        "id": "view-in-github",
        "colab_type": "text"
      },
      "source": [
        "<a href=\"https://colab.research.google.com/github/singh-nilesh/homework/blob/main/sem2/python/classes.ipynb\" target=\"_parent\"><img src=\"https://colab.research.google.com/assets/colab-badge.svg\" alt=\"Open In Colab\"/></a>"
      ]
    },
    {
      "cell_type": "markdown",
      "source": [
        "devil fruits"
      ],
      "metadata": {
        "id": "M1XgZjY1YQnU"
      }
    },
    {
      "cell_type": "code",
      "execution_count": 16,
      "metadata": {
        "colab": {
          "base_uri": "https://localhost:8080/"
        },
        "id": "wjZHGzDeYLIC",
        "outputId": "802918bb-ca3a-41d7-cb74-88bbcdb792d9"
      },
      "outputs": [
        {
          "output_type": "stream",
          "name": "stdout",
          "text": [
            "Grants wealder, ability to menifest properties of nonlivings \tWealder has unique ability \n",
            "\trubber \tmugiwara\n",
            "\n",
            "Grants wealder, ability to transform hhis body in to an animal \tHave a will of there own \n",
            "\tAsure dragon \tKing of beasts\n",
            "\n",
            "Grants wealder, ablity to natural element \tThings pass througth wealders body \n",
            "\tflames \tFire fist ace\n"
          ]
        }
      ],
      "source": [
        "#DF\n",
        "class devil_fruit:\n",
        "    who=\"Anyone who eats the Devilfruit\"\n",
        "    weakness=\"sea , Haki, sea_stone\"\n",
        "class paramecia(devil_fruit):\n",
        "    what=\"Grants wealder, ability to menifest properties of nonlivings\"\n",
        "    speciality= \"Wealder has unique ability\"\n",
        "    def __init__ (self,dfa,nm,crw,ncn):\n",
        "        self.ability=dfa\n",
        "        self.owner_name=nm\n",
        "        self.crew=crw\n",
        "        self.nickname=ncn\n",
        "class zoan(devil_fruit):\n",
        "    what=\"Grants wealder, ability to transform hhis body in to an animal\"\n",
        "    speciality=\"Have a will of there own\"\n",
        "    def __init__ (self,dfa,nm,crw,ncn):\n",
        "        self.ability=dfa\n",
        "        self.owner_name=nm\n",
        "        self.crew=crw\n",
        "        self.nickname=ncn\n",
        "class logia(devil_fruit):\n",
        "    what=\"Grants wealder, ablity to natural element\"\n",
        "    speciality= \"Things pass througth wealders body\"\n",
        "    def __init__ (self,dfa,nm,crw,ncn):\n",
        "        self.ability=dfa\n",
        "        self.owner_name=nm\n",
        "        self.crew=crw\n",
        "        self.nickname=ncn\n",
        "\n",
        "gomu_gomu=paramecia(\"rubber\",\"Monkey D luffy\",\"Straw hats pirates\",\"mugiwara\")\n",
        "#gomu_gomu.nickname=\"mugiwara\"\n",
        "fish_fish=zoan(\"Asure dragon\",\"Kaido\",\"animal beast pirates\",\"King of beasts\")\n",
        "#fish_fish.nickname=\"King of beasts\"\n",
        "flame_flame=logia(\"flames\",\"portgus D ace\",\"White beard pirates\",\"Fire fist ace\")\n",
        "#flame_flame.name=\"Fire fist ace\"\n",
        "\n",
        "print(f\"{gomu_gomu.what} \\t{gomu_gomu.speciality} \\n\\t{gomu_gomu.ability} \\t{gomu_gomu.nickname}\\n\")\n",
        "print(f\"{fish_fish.what} \\t{fish_fish.speciality} \\n\\t{fish_fish.ability} \\t{fish_fish.nickname}\\n\")\n",
        "print(f\"{flame_flame.what} \\t{flame_flame.speciality} \\n\\t{flame_flame.ability} \\t{flame_flame.nickname}\")"
      ]
    },
    {
      "cell_type": "markdown",
      "source": [
        "persons"
      ],
      "metadata": {
        "id": "ebaQhswUYbLf"
      }
    },
    {
      "cell_type": "code",
      "source": [
        "class person:\n",
        "    def __init__(self,nm,ag,gd):\n",
        "        self.name=nm\n",
        "        self.age=ag\n",
        "        self.gender=gd\n",
        "class teacher(person):\n",
        "    def __init__(self,slry,sub,cl):\n",
        "        self.salary=slry\n",
        "        self.subject=sub\n",
        "        self.college=cl\n",
        "\n",
        "t1= teacher(50000,\"math\",\"Ruia\")\n",
        "t1.name=\"raj\"\n",
        "t1.gender=\"Male\"\n",
        "t1.age=32\n",
        "\n",
        "print(t1.name)\n",
        "print(t1.college)\n",
        "print(t1.age)\n",
        "print(t1.gender)\n",
        "print(t1.salary)\n",
        "print(t1.subject)"
      ],
      "metadata": {
        "colab": {
          "base_uri": "https://localhost:8080/"
        },
        "id": "Buz5gnG8YgZb",
        "outputId": "9aa8e046-3f9e-476c-d2ba-db3ebf1415e5"
      },
      "execution_count": 2,
      "outputs": [
        {
          "output_type": "stream",
          "name": "stdout",
          "text": [
            "raj\n",
            "Ruia\n",
            "32\n",
            "Male\n",
            "50000\n",
            "math\n"
          ]
        }
      ]
    },
    {
      "cell_type": "markdown",
      "source": [
        "employee"
      ],
      "metadata": {
        "id": "b-Lu5gzlYlL-"
      }
    },
    {
      "cell_type": "code",
      "source": [
        "class employee:\n",
        "    college_name=\"Ruia\"\n",
        "    year=\"2022-2023\"\n",
        "    def __init__(self,nm,age,roll,slry):\n",
        "        self.name=nm\n",
        "        self.age=age\n",
        "        self.designation=roll\n",
        "        self.salary=slry\n",
        "p=employee(\"raj\",\"45\",\"Principal\",\"70000\")\n",
        "print(p.name)\n",
        "print(p.age)\n",
        "print(p.salary)\n",
        "print(p.designation)\n",
        "print(p.college_name)\n",
        "print(p.year)"
      ],
      "metadata": {
        "colab": {
          "base_uri": "https://localhost:8080/"
        },
        "id": "JuoB5Oa4Ytm6",
        "outputId": "157ef9c6-fd17-498b-b7e2-fd07efcc1498"
      },
      "execution_count": 5,
      "outputs": [
        {
          "output_type": "stream",
          "name": "stdout",
          "text": [
            "raj\n",
            "45\n",
            "70000\n",
            "Principal\n",
            "Ruia\n",
            "2022-2023\n"
          ]
        }
      ]
    },
    {
      "cell_type": "markdown",
      "source": [
        "vegetable"
      ],
      "metadata": {
        "id": "Yumq8gQpajWd"
      }
    },
    {
      "cell_type": "code",
      "source": [
        "class vegetables:\n",
        "    production=\"Grown in farms\"\n",
        "\n",
        "class leafy(vegetables):\n",
        "    identity=\"Major parts are leaves\"\n",
        "    def __init__(self,nm,sesn,nute):\n",
        "        self.name=nm\n",
        "        self.season=sesn\n",
        "        self.nuterents=nute\n",
        "class marrow(vegetables):\n",
        "    identity=\"marrows are oblong, green squash, have a firm rind and a neutral flavour \"\n",
        "    def __init__(self,nm,sesn,nute):\n",
        "        self.name=nm\n",
        "        self.season=sesn\n",
        "        self.nuterents=nute\n",
        "class roots(vegetables):\n",
        "    identity=\"imperfectly shaped, most of the part is root(gow underground)\"\n",
        "    def __init__(self,nm,sesn,nute):\n",
        "        self.name=nm\n",
        "        self.season=sesn\n",
        "        self.nuterents=nute\n",
        "\n",
        "v1 = roots (\"Potatoes\",\"winter\",\"potassium,vitamn C and B6\")\n",
        "v2 = leafy(\"Spinach\",\"winter\",\"fibres,manganese,iron\")\n",
        "\n",
        "print(f\"{v1.name}\\t{v1.season}\\t{v1.nuterents}\\n\\t{v1.identity}\\t{v1.production}\\n\")\n",
        "print(f\"{v2.name} \\t{v2.season}\\t{v2.nuterents}\\n\\t{v2.identity}\\t{v2.production}\")"
      ],
      "metadata": {
        "colab": {
          "base_uri": "https://localhost:8080/"
        },
        "id": "ufSR460OanDY",
        "outputId": "07a98f36-cd77-4072-836c-6a4d11f18673"
      },
      "execution_count": 13,
      "outputs": [
        {
          "output_type": "stream",
          "name": "stdout",
          "text": [
            "Potatoes\twinter\tpotassium,vitamn C and B6\n",
            "\timperfectly shaped, most of the part is root(gow underground)\tGrown in farms\n",
            "\n",
            "Spinach \twinter\tfibres,manganese,iron\n",
            "\tMajor parts are leaves\tGrown in farms\n"
          ]
        }
      ]
    },
    {
      "cell_type": "code",
      "source": [],
      "metadata": {
        "id": "KkjgFhg4dWGj"
      },
      "execution_count": null,
      "outputs": []
    }
  ]
}