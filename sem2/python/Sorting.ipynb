{
  "nbformat": 4,
  "nbformat_minor": 0,
  "metadata": {
    "colab": {
      "provenance": [],
      "authorship_tag": "ABX9TyOrQdKRKpdEdcCXuklpdlnS",
      "include_colab_link": true
    },
    "kernelspec": {
      "name": "python3",
      "display_name": "Python 3"
    },
    "language_info": {
      "name": "python"
    }
  },
  "cells": [
    {
      "cell_type": "markdown",
      "metadata": {
        "id": "view-in-github",
        "colab_type": "text"
      },
      "source": [
        "<a href=\"https://colab.research.google.com/github/singh-nilesh/homework/blob/main/sem2/python/Sorting.ipynb\" target=\"_parent\"><img src=\"https://colab.research.google.com/assets/colab-badge.svg\" alt=\"Open In Colab\"/></a>"
      ]
    },
    {
      "cell_type": "markdown",
      "source": [
        "# **Sorting**"
      ],
      "metadata": {
        "id": "Skxx-At4K_wd"
      }
    },
    {
      "cell_type": "code",
      "source": [
        "def user_input():\n",
        "    print(\"Enter numbers for sorting\")\n",
        "    lt=[]\n",
        "    flag=True\n",
        "    while (flag==True):\n",
        "        try:\n",
        "            ui=int(input(\"> \"))\n",
        "        except :\n",
        "            flag=False\n",
        "        else:\n",
        "            lt.append(ui)\n",
        "    print(\"array is: \",lt)\n",
        "    return lt\n",
        "\n",
        "def bubble_sort():\n",
        "    lt = user_input()\n",
        "    for i in range(len(lt)):\n",
        "        for j in range(len(lt)-1):\n",
        "            if(lt[j] > lt[j+1]):\n",
        "                temp = lt[j]\n",
        "                lt[j] = lt[j+1]\n",
        "                lt[j+1] = temp\n",
        "    return lt\n",
        "\n",
        "def selection_sort():\n",
        "    lt = user_input()\n",
        "    for i in range(len(lt)):\n",
        "        min_index = i\n",
        "        for j in range(i+1,len(lt)):\n",
        "            if(lt[j] < lt[min_index]):\n",
        "                min_index = j\n",
        "        temp = lt[i]\n",
        "        lt[i] = lt[min_index]\n",
        "        lt[min_index] = temp\n",
        "    return lt\n",
        "\n",
        "def insertion_sort():\n",
        "    lt = user_input()\n",
        "    for no_index in range(len(lt)):\n",
        "        store=lt[no_index]\n",
        "        end=no_index-1\n",
        "        while(end>=0 and lt[end]>store):\n",
        "            \n",
        "            lt[end+1]=lt[end]\n",
        "            end=end-1\n",
        "        lt[end+1]=store\n",
        "    return lt\n",
        "\n",
        "def mergeSort(arr):\n",
        "    if len(arr) > 1:\n",
        "         # Finding the mid of the array\n",
        "        mid = len(arr)//2\n",
        "        # Dividing the array elements\n",
        "        L = arr[:mid]\n",
        "        # into 2 halves\n",
        "        R = arr[mid:]\n",
        "        # Sorting the first half\n",
        "        mergeSort(L)\n",
        "        # Sorting the second half\n",
        "        mergeSort(R)\n",
        "        i = j = k = 0\n",
        "        # Copy data to temp arrays L[] and R[]\n",
        "        while i < len(L) and j < len(R):\n",
        "            if L[i] <= R[j]:\n",
        "                arr[k] = L[i]\n",
        "                i += 1\n",
        "            else:\n",
        "                arr[k] = R[j]\n",
        "                j += 1\n",
        "            k += 1\n",
        "        # Checking if any element was left\n",
        "        while i < len(L):\n",
        "            arr[k] = L[i]\n",
        "            i += 1\n",
        "            k += 1\n",
        "        while j < len(R):\n",
        "            arr[k] = R[j]\n",
        "            j += 1\n",
        "            k += 1\n",
        "    return arr17\n",
        "\n",
        "ct=\"y\"\n",
        "while(ct==\"y\" or ct==\"Y\"):\n",
        "    rep=int(input('which sorting you want to perform:\\n 1.'\n",
        "                'bubble\\n 2. selection\\n 3. insertion\\n 4.merge\\n'))\n",
        "    if(rep==1):print(\"sorted array is\",bubble_sort())\n",
        "    elif(rep==2):print(\"sorted array is\",selection_sort())\n",
        "    elif(rep==3):print(\"sorted array is\",insertion_sort())\n",
        "    elif(rep==4):print(\"sorted array is\",mergeSort(user_input()))\n",
        "    else:\n",
        "        print(\"invalid selection\")\n",
        "    ct=input(\"Do you want to continue?(y/n): \")\n",
        "print(\"\\n\\tThank You!\")\n",
        "\n",
        "611\n",
        "#Output"
      ],
      "metadata": {
        "id": "72EtI2hXLCjY",
        "colab": {
          "base_uri": "https://localhost:8080/"
        },
        "outputId": "d1eac648-8334-445a-a716-dc6ce5b6d4d7"
      },
      "execution_count": null,
      "outputs": [
        {
          "output_type": "stream",
          "name": "stdout",
          "text": [
            "which sorting you want to perform:\n",
            " 1.bubble\n",
            " 2. selection\n",
            " 3. insertion\n",
            " 4.merge\n",
            "4\n",
            "Enter numbers for sorting\n",
            "> 49\n",
            "> 6\n",
            "> \n",
            "array is:  [49, 6]\n",
            "sorted array is [6, 49]\n",
            "Do you want to continue?(y/n): y\n",
            "which sorting you want to perform:\n",
            " 1.bubble\n",
            " 2. selection\n",
            " 3. insertion\n",
            " 4.merge\n",
            "2\n",
            "Enter numbers for sorting\n",
            "> 46\n",
            "> 1\n",
            "> 59\n",
            "> 7\n",
            "> \n",
            "array is:  [46, 1, 59, 7]\n",
            "sorted array is [1, 7, 46, 59]\n",
            "Do you want to continue?(y/n): y\n",
            "which sorting you want to perform:\n",
            " 1.bubble\n",
            " 2. selection\n",
            " 3. insertion\n",
            " 4.merge\n",
            "3\n",
            "Enter numbers for sorting\n",
            "> 1\n",
            "> dg\n",
            "array is:  [1]\n",
            "sorted array is [1]\n",
            "Do you want to continue?(y/n): 1\n",
            "\n",
            "\tThank You!\n"
          ]
        },
        {
          "output_type": "execute_result",
          "data": {
            "text/plain": [
              "611"
            ]
          },
          "metadata": {},
          "execution_count": 9
        }
      ]
    },
    {
      "cell_type": "code",
      "execution_count": null,
      "metadata": {
        "id": "Ecwbtz6yeB0Q"
      },
      "outputs": [],
      "source": []
    }
  ]
}