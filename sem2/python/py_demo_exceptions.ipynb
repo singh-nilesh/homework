{
  "nbformat": 4,
  "nbformat_minor": 0,
  "metadata": {
    "colab": {
      "provenance": [],
      "authorship_tag": "ABX9TyMha97q2ivixXge4SYd4j0M",
      "include_colab_link": true
    },
    "kernelspec": {
      "name": "python3",
      "display_name": "Python 3"
    },
    "language_info": {
      "name": "python"
    }
  },
  "cells": [
    {
      "cell_type": "markdown",
      "metadata": {
        "id": "view-in-github",
        "colab_type": "text"
      },
      "source": [
        "<a href=\"https://colab.research.google.com/github/singh-nilesh/homework/blob/main/sem2/python/py_demo_exceptions.ipynb\" target=\"_parent\"><img src=\"https://colab.research.google.com/assets/colab-badge.svg\" alt=\"Open In Colab\"/></a>"
      ]
    },
    {
      "cell_type": "markdown",
      "source": [
        "\n",
        "**PRACTICAL 1**\n",
        "---\n",
        "\n"
      ],
      "metadata": {
        "id": "sFRalImAcR0z"
      }
    },
    {
      "cell_type": "markdown",
      "source": [
        "Q1 ZeroDivision error"
      ],
      "metadata": {
        "id": "4jLLkwofDKHq"
      }
    },
    {
      "cell_type": "code",
      "execution_count": null,
      "metadata": {
        "colab": {
          "base_uri": "https://localhost:8080/"
        },
        "id": "J4FdGaLgDHv5",
        "outputId": "88875245-d91e-44ed-9f11-90f4df15147a"
      },
      "outputs": [
        {
          "output_type": "stream",
          "name": "stdout",
          "text": [
            "Enter 1st no: 5\n",
            "Enter 2nd no: 0\n",
            "Denominator can't be Zero\n"
          ]
        }
      ],
      "source": [
        "x=int(input(\"Enter 1st no: \"))\n",
        "y=int(input(\"Enter 2nd no: \"))\n",
        "try:\n",
        "    z=x/y\n",
        "except ZeroDivisionError:\n",
        "    print(\"Denominator can't be Zero\")\n",
        "else:\n",
        "    print(\"ans= \",z)\n",
        "\n",
        "#OUTPUT"
      ]
    },
    {
      "cell_type": "markdown",
      "source": [
        "Q2 Value Error"
      ],
      "metadata": {
        "id": "uIn1wf48DkJY"
      }
    },
    {
      "cell_type": "code",
      "source": [
        "import math\n",
        "no=int(input(\"Enter an number: \"))\n",
        "try:\n",
        "  ans=math.sqrt(no)\n",
        "except ValueError:\n",
        "  print(\"can't find square root for negative number, enter positive number\")\n",
        "\n",
        "#OUTPUT"
      ],
      "metadata": {
        "colab": {
          "base_uri": "https://localhost:8080/"
        },
        "id": "Gc67YD_2DpWm",
        "outputId": "c8bb17af-53dc-4a1a-c191-bdc2895c62b6"
      },
      "execution_count": null,
      "outputs": [
        {
          "output_type": "stream",
          "name": "stdout",
          "text": [
            "Enter an number: -7\n",
            "can't find square root for negative number, enter positive number\n"
          ]
        }
      ]
    },
    {
      "cell_type": "markdown",
      "source": [
        "Q3 Type Error"
      ],
      "metadata": {
        "id": "SBLIXPo2FYK5"
      }
    },
    {
      "cell_type": "code",
      "source": [
        "x=5\n",
        "y=\"a\"\n",
        "try:\n",
        "    z=x+y\n",
        "except TypeError:\n",
        "    print(\"Can't add string and number, enter two numbers.\")\n",
        "else:\n",
        "    print(\"ans= \",z)\n",
        "\n",
        "#OUTPUT"
      ],
      "metadata": {
        "colab": {
          "base_uri": "https://localhost:8080/"
        },
        "id": "e6X77qun31SR",
        "outputId": "2b4e336d-26e7-4a06-e493-2d7e5fcc96ee"
      },
      "execution_count": null,
      "outputs": [
        {
          "output_type": "stream",
          "name": "stdout",
          "text": [
            "Can't add string and number, enter two numbers.\n"
          ]
        }
      ]
    },
    {
      "cell_type": "markdown",
      "source": [
        "Q4 calculate factorial through multiple exception"
      ],
      "metadata": {
        "id": "f-lb6nz-KPFD"
      }
    },
    {
      "cell_type": "code",
      "source": [
        "from math import factorial\n",
        "x=\"a\"\n",
        "try:\n",
        "  ans=math.factorial(x)\n",
        "except ValueError:\n",
        "  print(\"can't find factorial for negative number, enter positive number\")\n",
        "except TypeError:\n",
        "  print(\"can't find factorial for string, enter positive number\")\n",
        "else:\n",
        "  print(\"ans= \",ans)\n",
        "\n",
        "#OUTPUT"
      ],
      "metadata": {
        "colab": {
          "base_uri": "https://localhost:8080/"
        },
        "id": "Q8VffAL_KgF-",
        "outputId": "f74bf4d6-06e8-4087-da92-3936d2f03f38"
      },
      "execution_count": null,
      "outputs": [
        {
          "output_type": "stream",
          "name": "stdout",
          "text": [
            "can't find factorial for string, enter positive number\n"
          ]
        }
      ]
    },
    {
      "cell_type": "markdown",
      "source": [
        "Q5 example to handel IO error"
      ],
      "metadata": {
        "id": "oyrz1enQMgAr"
      }
    },
    {
      "cell_type": "code",
      "source": [
        "try:\n",
        "  f=open(\"Read.txt\",\"r\")\n",
        "except IOError:\n",
        "  print(\"file not found,Please check name and addres of file\")\n",
        "else:\n",
        "  f.rea"
      ],
      "metadata": {
        "colab": {
          "base_uri": "https://localhost:8080/"
        },
        "id": "3YnsFnNFMqdF",
        "outputId": "f98db8be-965e-4a46-a074-40f5e8dbf764"
      },
      "execution_count": null,
      "outputs": [
        {
          "output_type": "stream",
          "name": "stdout",
          "text": [
            "file not found,Please check name and addres of file\n"
          ]
        }
      ]
    },
    {
      "cell_type": "markdown",
      "source": [
        "Q6 ArithmeticError"
      ],
      "metadata": {
        "id": "L111EC7tOBSD"
      }
    },
    {
      "cell_type": "code",
      "source": [
        "x=int(input(\"Enter 1st no: \"))\n",
        "y=int(input(\"Enter 2nd no: \"))\n",
        "try:\n",
        "    z=x/y\n",
        "except ArithmeticError:\n",
        "    print(\"ArithmeticError occured check the inputs\")\n",
        "else:\n",
        "    print(\"ans= \",z)\n",
        "\n",
        "#OUTPUT"
      ],
      "metadata": {
        "colab": {
          "base_uri": "https://localhost:8080/"
        },
        "id": "b_x1N2k7QJS5",
        "outputId": "db7d3e4c-cb87-4ef7-b17a-2870a16e3e1f"
      },
      "execution_count": null,
      "outputs": [
        {
          "output_type": "stream",
          "name": "stdout",
          "text": [
            "Enter 1st no: 5\n",
            "Enter 2nd no: 0\n",
            "ArithmeticError occured check the inputs\n"
          ]
        }
      ]
    },
    {
      "cell_type": "markdown",
      "source": [
        "Q7 nested try catch for division(demonstrate value, zero, type error)"
      ],
      "metadata": {
        "id": "Tx1B1xlUQshj"
      }
    },
    {
      "cell_type": "code",
      "source": [
        "import math\n",
        "x=5\n",
        "y=0\n",
        "d=0\n",
        "try:\n",
        "    z=x+y\n",
        "    try:\n",
        "        f=math.factorial(z)\n",
        "        try:\n",
        "            ans=f/d\n",
        "        except ZeroDivisionError :\n",
        "            print(\"Zero division error occured\") \n",
        "        else:\n",
        "            print(\"ans= \",ans)\n",
        "    except ValueError:\n",
        "        print(\"factorial can be found or positve integers only.\")\n",
        "except TypeError:\n",
        "    print(\"Cant't perform arithmatic on strings\")\n",
        "\n",
        "#OUTPUT"
      ],
      "metadata": {
        "colab": {
          "base_uri": "https://localhost:8080/"
        },
        "id": "SLukVbbwRH_K",
        "outputId": "128f8e89-e9cf-4b57-e11f-c112ce28ab2a"
      },
      "execution_count": null,
      "outputs": [
        {
          "output_type": "stream",
          "name": "stdout",
          "text": [
            "Zero division error occured\n"
          ]
        }
      ]
    },
    {
      "cell_type": "markdown",
      "source": [
        "Q8 ImportError"
      ],
      "metadata": {
        "id": "GYDY3NbhSI6q"
      }
    },
    {
      "cell_type": "code",
      "source": [
        "try:\n",
        "    import nilesh\n",
        "except ImportError:\n",
        "    print(\"Error occured, check the imported module\")"
      ],
      "metadata": {
        "colab": {
          "base_uri": "https://localhost:8080/"
        },
        "id": "pu_WicJoSR4S",
        "outputId": "e67177b0-7235-4cca-b726-bb0d03df3607"
      },
      "execution_count": null,
      "outputs": [
        {
          "output_type": "stream",
          "name": "stdout",
          "text": [
            "Error occured, check the imported module\n"
          ]
        }
      ]
    },
    {
      "cell_type": "markdown",
      "source": [
        "Q9 Overflow Error"
      ],
      "metadata": {
        "id": "zr4NnlwZS7ia"
      }
    },
    {
      "cell_type": "code",
      "source": [
        "x=2.0\n",
        "try:\n",
        "    while(True):\n",
        "        x=x**2\n",
        "        print(x)\n",
        "except OverflowError:\n",
        "    print(\"ERROR\")\n",
        "        \n",
        "#OUTPUT"
      ],
      "metadata": {
        "colab": {
          "base_uri": "https://localhost:8080/"
        },
        "id": "rIcSqZ7KVq6i",
        "outputId": "5c3bdf43-a870-4880-c043-99a51653c4a2"
      },
      "execution_count": null,
      "outputs": [
        {
          "output_type": "stream",
          "name": "stdout",
          "text": [
            "4.0\n",
            "16.0\n",
            "256.0\n",
            "65536.0\n",
            "4294967296.0\n",
            "1.8446744073709552e+19\n",
            "3.402823669209385e+38\n",
            "1.157920892373162e+77\n",
            "1.3407807929942597e+154\n",
            "ERROR\n"
          ]
        }
      ]
    },
    {
      "cell_type": "markdown",
      "source": [
        "Q10 AssretionError"
      ],
      "metadata": {
        "id": "Wun2SVSpWVbD"
      }
    },
    {
      "cell_type": "code",
      "source": [
        "no=int(input(\"enter no: \"))\n",
        "try:\n",
        "    assert no%2==0\n",
        "except AssertionError:\n",
        "    print(\"Assertion eror found\")\n",
        "else:\n",
        "    print(\"Done\")\n",
        "\n",
        "#OUTPUT:"
      ],
      "metadata": {
        "colab": {
          "base_uri": "https://localhost:8080/"
        },
        "id": "yskBLDPTWZCZ",
        "outputId": "d4b79fa1-3f20-4c1b-9aff-b165819f1475"
      },
      "execution_count": null,
      "outputs": [
        {
          "output_type": "stream",
          "name": "stdout",
          "text": [
            "enter no: 7\n",
            "Assertion eror found\n"
          ]
        }
      ]
    }
  ]
}