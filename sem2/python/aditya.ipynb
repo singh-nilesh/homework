{
  "nbformat": 4,
  "nbformat_minor": 0,
  "metadata": {
    "colab": {
      "provenance": [],
      "authorship_tag": "ABX9TyOlxV0Bp8a0SDYZQFkKg57y",
      "include_colab_link": true
    },
    "kernelspec": {
      "name": "python3",
      "display_name": "Python 3"
    },
    "language_info": {
      "name": "python"
    }
  },
  "cells": [
    {
      "cell_type": "markdown",
      "metadata": {
        "id": "view-in-github",
        "colab_type": "text"
      },
      "source": [
        "<a href=\"https://colab.research.google.com/github/singh-nilesh/homework/blob/main/sem2/python/aditya.ipynb\" target=\"_parent\"><img src=\"https://colab.research.google.com/assets/colab-badge.svg\" alt=\"Open In Colab\"/></a>"
      ]
    },
    {
      "cell_type": "markdown",
      "source": [
        "aditya"
      ],
      "metadata": {
        "id": "Skxx-At4K_wd"
      }
    },
    {
      "cell_type": "code",
      "source": [],
      "metadata": {
        "id": "72EtI2hXLCjY"
      },
      "execution_count": null,
      "outputs": []
    },
    {
      "cell_type": "code",
      "execution_count": null,
      "metadata": {
        "id": "Ecwbtz6yeB0Q"
      },
      "outputs": [],
      "source": []
    }
  ]
}