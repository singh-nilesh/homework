{
 "cells": [
  {
   "cell_type": "markdown",
   "metadata": {},
   "source": [
    "1). This is a progranm to find greatest of three number."
   ]
  },
  {
   "cell_type": "code",
   "execution_count": null,
   "metadata": {},
   "outputs": [],
   "source": [
    "#include<stdio.h>\n",
    "#include<conio.h>\n",
    "void main()\n",
    "{\n",
    "    int no1,no2,no3;\n",
    "    printf(\"Enter three numbrs: \");\n",
    "    scanf(\"%d%d%d\",&no1,&no2,&no3);\n",
    "    if (no1>no2 && no1>no3)\n",
    "        { printf( \"%d is greatest amond three numbers\",no1);}\n",
    "    else if (no2>no3)\n",
    "        { printf(\"%d is greatest among three numbers\",no2);}\n",
    "    else\n",
    "        {printf(\"%d is greatest\",no3);}\n",
    "    getch();\n",
    "}"
   ]
  },
  {
   "cell_type": "markdown",
   "metadata": {},
   "source": [
    "2). This is a code to check is number is prime or not"
   ]
  },
  {
   "cell_type": "code",
   "execution_count": null,
   "metadata": {},
   "outputs": [],
   "source": [
    "#include<stdio.h>\n",
    "#include<conio.h>\n",
    "void main ()\n",
    "{\n",
    "    int no,div=2;\n",
    "    printf(\"Enter a number: \");\n",
    "    scanf(\"%d\",&no);\n",
    "\n",
    "    if (no<2)\n",
    "    {\n",
    "       printf(\"%d is not a prime number\",no); \n",
    "    }\n",
    "    else\n",
    "    {\n",
    "        while (div<no)\n",
    "        {   \n",
    "            if (no%div==0)\n",
    "            {\n",
    "                printf(\"%d is not a prime number\",no);\n",
    "                break;\n",
    "            }\n",
    "            div=div+1;\n",
    "        }\n",
    "\n",
    "        if (div==no)\n",
    "        {\n",
    "            printf(\"%d is a prime number\",no);\n",
    "        }\n",
    "    }\n",
    "    getch();\n",
    "}"
   ]
  },
  {
   "cell_type": "markdown",
   "metadata": {},
   "source": [
    "3). this is a program to compute factorial of a number"
   ]
  },
  {
   "cell_type": "code",
   "execution_count": null,
   "metadata": {},
   "outputs": [],
   "source": [
    "#include<stdio.h>\n",
    "#include<conio.h>\n",
    "void main()\n",
    "{\n",
    "    int no, product=1,lap=0;\n",
    "    printf(\"Enter a number: \");\n",
    "    scanf(\"%d\",&no);\n",
    "    while (lap<no)\n",
    "    {\n",
    "        lap=lap+1;\n",
    "        product=product*lap;\n",
    "        if(lap==no)\n",
    "        {\n",
    "            printf(\"Factorial of %d is %d.\",no,product);\n",
    "            break;\n",
    "        }\n",
    "    }\n",
    "    getch();\n",
    "}"
   ]
  },
  {
   "cell_type": "markdown",
   "metadata": {},
   "source": [
    "4). This is a program to reverse and add numbers"
   ]
  },
  {
   "cell_type": "code",
   "execution_count": null,
   "metadata": {},
   "outputs": [],
   "source": [
    "#include<stdio.h>\n",
    "#include<conio.h>\n",
    "void main()\n",
    "{\n",
    "    int no, sum=0, rev=0, rem;\n",
    "    printf(\"Enter a number: \");\n",
    "    scanf(\"%d\",&no);\n",
    "    while(no!=0)\n",
    "    {   \n",
    "        rem=no%10;\n",
    "        rev=rev*10+rem;\n",
    "        no=no/10;\n",
    "        sum=sum+rem;\n",
    "    }\n",
    "    printf(\"reverse = %d \\n sum = %d\",rev,sum);\n",
    "    getch();\n",
    "}"
   ]
  }
 ],
 "metadata": {
  "kernelspec": {
   "display_name": "Python 3.10.6 64-bit",
   "language": "python",
   "name": "python3"
  },
  "language_info": {
   "name": "python",
   "version": "3.10.6"
  },
  "orig_nbformat": 4,
  "vscode": {
   "interpreter": {
    "hash": "608414fe1c3f254b1a6860610d88ca30cbf3a4cc9500ae624968d2dab8956d95"
   }
  }
 },
 "nbformat": 4,
 "nbformat_minor": 2
}
