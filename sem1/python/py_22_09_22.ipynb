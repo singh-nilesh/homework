{
 "cells": [
  {
   "cell_type": "markdown",
   "metadata": {},
   "source": [
    "1)print number is even or od upto n series"
   ]
  },
  {
   "cell_type": "code",
   "execution_count": 1,
   "metadata": {},
   "outputs": [
    {
     "name": "stdout",
     "output_type": "stream",
     "text": [
      "0 is even\n",
      "1 is odd\n",
      "2 is even\n",
      "3 is odd\n",
      "4 is even\n"
     ]
    }
   ],
   "source": [
    "# This is a program to print even or odd of a series\n",
    "no=int(input(\"Enter the number: \"))\n",
    "no2=0\n",
    "while(no>=no2):\n",
    "    if(no2%2==0):\n",
    "        print(\"%d is even\"%no2)\n",
    "        no2=no2+1\n",
    "    else:\n",
    "        print(\"%d is odd\"%no2)\n",
    "        no2=no2+1"
   ]
  },
  {
   "cell_type": "markdown",
   "metadata": {},
   "source": [
    "2)WAP to print odd number sum in a given range(inputs= lower.upper class\n",
    "limit)"
   ]
  },
  {
   "cell_type": "code",
   "execution_count": 2,
   "metadata": {},
   "outputs": [
    {
     "name": "stdout",
     "output_type": "stream",
     "text": [
      "sum = 15\n"
     ]
    }
   ],
   "source": [
    "# This is a program to print sum of odd numbers in a range\n",
    "st=int(input(\"Enter the lower class limit of range: \"))\n",
    "ed=int(input(\"Enter the upper class limit of range: \"))\n",
    "sum=0\n",
    "while(st<=ed):\n",
    "    if(st%2!=0):\n",
    "        sum=sum+st\n",
    "    st=st+1\n",
    "print(\"sum =\",sum)"
   ]
  },
  {
   "cell_type": "markdown",
   "metadata": {},
   "source": [
    "3) WAP to print factors of a number."
   ]
  },
  {
   "cell_type": "code",
   "execution_count": 4,
   "metadata": {},
   "outputs": [
    {
     "name": "stdout",
     "output_type": "stream",
     "text": [
      "Factors of 15 are:\n",
      "1\n",
      "3\n",
      "5\n",
      "15\n"
     ]
    }
   ],
   "source": [
    "# This is a program to print factors of a number\n",
    "no=int(input(\"Enter the number: \"))\n",
    "fact=1\n",
    "print(\"Factors of %d are:\"%no)\n",
    "while(fact<=no):\n",
    "    if(no%fact==0):\n",
    "        print(fact)\n",
    "    fact=fact+1"
   ]
  },
  {
   "cell_type": "markdown",
   "metadata": {},
   "source": [
    "4) WAP to print factorial of a number"
   ]
  },
  {
   "cell_type": "code",
   "execution_count": 5,
   "metadata": {},
   "outputs": [
    {
     "name": "stdout",
     "output_type": "stream",
     "text": [
      "Factorial is 120\n"
     ]
    }
   ],
   "source": [
    "# This is a program to print factorial of a number\n",
    "no=int(input(\"Enter the number: \"))\n",
    "if(no<0):\n",
    "    print(\"No factorial for negative number.\")\n",
    "elif(no==0):\n",
    "    print(\"factorial is 1\")\n",
    "else:\n",
    "    fact=1\n",
    "    while(no>=1):\n",
    "        fact=fact*no\n",
    "        no=no-1\n",
    "    print(\"Factorial is\",fact)"
   ]
  },
  {
   "cell_type": "markdown",
   "metadata": {},
   "source": [
    "5)WAP to print nCr and nPr of a number"
   ]
  },
  {
   "cell_type": "code",
   "execution_count": 6,
   "metadata": {},
   "outputs": [
    {
     "name": "stdout",
     "output_type": "stream",
     "text": [
      "nCr = 20.0\n",
      "nPr = 120.0\n"
     ]
    }
   ],
   "source": [
    "# This is a program to print nCr & nPr of a number\n",
    "import math\n",
    "no=int(input(\"Enter the number: \"))\n",
    "r=int(input(\"Enter r: \"))\n",
    "npr=(math.factorial(no)/math.factorial(no-r))\n",
    "ncr=(math.factorial(no)/(math.factorial(no-r)*math.factorial(r)))\n",
    "print(\"nCr =\",ncr)\n",
    "print(\"nPr =\",npr)"
   ]
  },
  {
   "cell_type": "markdown",
   "metadata": {},
   "source": [
    "5-II)WAP to print nCr and nPr of a number"
   ]
  },
  {
   "cell_type": "code",
   "execution_count": 7,
   "metadata": {},
   "outputs": [
    {
     "name": "stdout",
     "output_type": "stream",
     "text": [
      "nCr = 20.0\n",
      "nPr = 120.0\n"
     ]
    }
   ],
   "source": [
    "def factorial(no):\n",
    "    fact=1\n",
    "    while(no>=1):\n",
    "        fact=fact*no\n",
    "        no=int(no-1)\n",
    "    return fact\n",
    "\n",
    "no=int(input(\"Enter the number: \"))\n",
    "r=int(input(\"Enter r: \"))\n",
    "npr=factorial(no)/factorial(no-r)\n",
    "ncr=factorial(no)/(factorial(no-r)*factorial(r))\n",
    "print(\"nCr =\",ncr)\n",
    "print(\"nPr =\",npr)"
   ]
  },
  {
   "cell_type": "markdown",
   "metadata": {},
   "source": [
    "6. To accept numbers from user and separate out its digits."
   ]
  },
  {
   "cell_type": "code",
   "execution_count": 8,
   "metadata": {},
   "outputs": [
    {
     "name": "stdout",
     "output_type": "stream",
     "text": [
      "3\n",
      "2\n",
      "1\n"
     ]
    }
   ],
   "source": [
    "# This is a progrm to spilt digits of a number\n",
    "no=int(input(\"Enter the nummber:\"))\n",
    "rem=0\n",
    "if(no==0):\n",
    "    print(0)\n",
    "else:\n",
    "    while(no!=0):\n",
    "        rem=no%10\n",
    "        print(rem)\n",
    "        no=int(no/10)"
   ]
  },
  {
   "cell_type": "markdown",
   "metadata": {},
   "source": [
    "7. To perform addition of digits of a number."
   ]
  },
  {
   "cell_type": "code",
   "execution_count": 9,
   "metadata": {},
   "outputs": [
    {
     "name": "stdout",
     "output_type": "stream",
     "text": [
      "sum = 6\n"
     ]
    }
   ],
   "source": [
    "# this is a  program to add digits of a number\n",
    "no=int(input(\"Enter the number: \"))\n",
    "sum=0\n",
    "rem=0\n",
    "\n",
    "while(no!=0):\n",
    "    rem=no%10\n",
    "    sum=sum+rem\n",
    "    no=int(no/10)\n",
    "print(\"sum =\",sum)"
   ]
  },
  {
   "cell_type": "markdown",
   "metadata": {},
   "source": [
    "8. To reverse a number."
   ]
  },
  {
   "cell_type": "code",
   "execution_count": 10,
   "metadata": {},
   "outputs": [
    {
     "name": "stdout",
     "output_type": "stream",
     "text": [
      "reverse of number is 321\n"
     ]
    }
   ],
   "source": [
    "# This is a program to reverse a number\n",
    "no=int(input(\"Enter a number: \"))\n",
    "rev=0\n",
    "while(no!=0):\n",
    "    rem=no%10\n",
    "    rev=rev*10+rem\n",
    "    no=int(no/10)\n",
    "print(\"reverse of number is\",rev)"
   ]
  },
  {
   "cell_type": "markdown",
   "metadata": {},
   "source": [
    "9. To check whether given number is palindrome or not. (same in reverse order) (eg:- 121 is reversed as 121)"
   ]
  },
  {
   "cell_type": "code",
   "execution_count": 11,
   "metadata": {},
   "outputs": [
    {
     "name": "stdout",
     "output_type": "stream",
     "text": [
      "313 is palindrome\n"
     ]
    }
   ],
   "source": [
    "# This is a program to check number is palindrome or not\n",
    "no=int(input(\"Enter a number: \"))\n",
    "st_no=no\n",
    "rev=0\n",
    "while(no!=0):\n",
    "    rem=no%10\n",
    "    rev=rev*10+rem\n",
    "    no=int(no/10)\n",
    "if(rev==st_no):\n",
    "    print(\"%d is palindrome\"%st_no)\n",
    "else:\n",
    "    print(\"%d is not palindrome\"%st_no)"
   ]
  },
  {
   "cell_type": "markdown",
   "metadata": {},
   "source": [
    "10. To check whether given number is Armstrong or not. (Sum of cube of digits in a number should be the number.)"
   ]
  },
  {
   "cell_type": "code",
   "execution_count": 12,
   "metadata": {},
   "outputs": [
    {
     "name": "stdout",
     "output_type": "stream",
     "text": [
      "407 is an Armstrong number\n"
     ]
    }
   ],
   "source": [
    "# this is a  program to add digits of a number\n",
    "no=int(input(\"Enter the number: \"))\n",
    "st_no=no\n",
    "sum=0\n",
    "while(no!=0):\n",
    "    rem=no%10\n",
    "    cube=rem**3\n",
    "    sum=sum+cube\n",
    "    no=int(no/10)\n",
    "if(sum==st_no):\n",
    "    print(\"%d is an Armstrong number\"%st_no)\n",
    "else:\n",
    "    print(\"%d is not an Armstrong number\"%st_no)"
   ]
  },
  {
   "cell_type": "markdown",
   "metadata": {},
   "source": [
    "11. To check whether number is perfect or not."
   ]
  },
  {
   "cell_type": "code",
   "execution_count": 14,
   "metadata": {},
   "outputs": [
    {
     "name": "stdout",
     "output_type": "stream",
     "text": [
      "28 is a perfect number\n"
     ]
    }
   ],
   "source": [
    "# This is a program to check if a number is perfect or not\n",
    "no=int(input(\"Enter the number: \"))\n",
    "fact=1\n",
    "sum=0\n",
    "while(fact<no):\n",
    "    if(no%fact==0):\n",
    "        sum=sum+fact\n",
    "    fact=fact+1\n",
    "if(no==sum):\n",
    "    print(\"%d is a perfect number\"%no)\n",
    "else:\n",
    "    print(\"%d is not a perfect number\"%no)"
   ]
  },
  {
   "cell_type": "markdown",
   "metadata": {},
   "source": [
    "12. To accept to numbers from user, perform its addition till user wish."
   ]
  },
  {
   "cell_type": "code",
   "execution_count": 15,
   "metadata": {},
   "outputs": [
    {
     "name": "stdout",
     "output_type": "stream",
     "text": [
      "addition of two number is 8\n",
      "addition of two number is 16\n"
     ]
    }
   ],
   "source": [
    "# Ths is a program to perform additio till the user wishes\n",
    "def adding():\n",
    "    no1=int(input(\"Enter the first number: \"))\n",
    "    no2=int(input(\"Enter the second number: \"))\n",
    "    print(\"addition of two number is\",(no1+no2))\n",
    "adding()\n",
    "fb=input(\"Do you want to continue (y/n): \")\n",
    "while(fb=='y'):\n",
    "    adding()\n",
    "    fb=input(\"Do you want to continue (y/n): \")\n",
    "    if(fb=='n'):\n",
    "        pass\n"
   ]
  }
 ],
 "metadata": {
  "kernelspec": {
   "display_name": "Python 3.10.6 64-bit",
   "language": "python",
   "name": "python3"
  },
  "language_info": {
   "codemirror_mode": {
    "name": "ipython",
    "version": 3
   },
   "file_extension": ".py",
   "mimetype": "text/x-python",
   "name": "python",
   "nbconvert_exporter": "python",
   "pygments_lexer": "ipython3",
   "version": "3.10.6"
  },
  "orig_nbformat": 4,
  "vscode": {
   "interpreter": {
    "hash": "608414fe1c3f254b1a6860610d88ca30cbf3a4cc9500ae624968d2dab8956d95"
   }
  }
 },
 "nbformat": 4,
 "nbformat_minor": 2
}
