{
 "cells": [
  {
   "cell_type": "markdown",
   "metadata": {},
   "source": [
    "number is prime or not"
   ]
  },
  {
   "cell_type": "code",
   "execution_count": null,
   "metadata": {},
   "outputs": [],
   "source": [
    "# This program checks is a number is prime or not\n",
    "num=int(input('Enter any number:'))\n",
    "if num>=1:\n",
    "    if num%2==0:\n",
    "        print(\"The number %d is not prime\"%(num))\n",
    "    else:\n",
    "        if num%3==0:\n",
    "            print(\"The number %d is not prime\"%(num))\n",
    "        else:\n",
    "            if num%5==0:\n",
    "                print(\"The number %d is not prime\"%(num))\n",
    "            else:\n",
    "                if num%7==0:\n",
    "                    print(\"The number %d is not prime\"%(num))\n",
    "                else:\n",
    "                    print(\"The number %d is prime\"%(num))\n",
    "    \n",
    "else:\n",
    "    print(\"The number %d is not prime\\n Reason:numbers less than 1 can't be prime\"%(num))"
   ]
  },
  {
   "cell_type": "markdown",
   "metadata": {},
   "source": [
    "display pattern for *,#"
   ]
  },
  {
   "cell_type": "code",
   "execution_count": null,
   "metadata": {},
   "outputs": [],
   "source": [
    "# This is a program to display pattern for *,#\n",
    "a=('*')\n",
    "b=('#')\n",
    "print(a*10+b)\n",
    "print(a*9+b)\n",
    "print(a*8+b)\n",
    "print(a*7+b)\n",
    "print(a*6+b)\n",
    "print(a*5+b)\n",
    "print(a*4+b)\n",
    "print(a*3+b)"
   ]
  },
  {
   "cell_type": "markdown",
   "metadata": {},
   "source": [
    " z patter using 6 digit numbers"
   ]
  },
  {
   "cell_type": "code",
   "execution_count": null,
   "metadata": {},
   "outputs": [],
   "source": [
    "# This a program to display z patter using 6 digit numbers\n",
    "no_1='345609'\n",
    "no_2='584759'\n",
    "no_3='359686'\n",
    "no_4='873069'\n",
    "no_5='670245'\n",
    "print(no_1+'\\n\\t'+no_2+'\\n\\t\\t'+no_3+'\\n\\t'+no_4+'\\n'+no_5)"
   ]
  }
 ],
 "metadata": {
  "kernelspec": {
   "display_name": "Python 3.10.6 64-bit",
   "language": "python",
   "name": "python3"
  },
  "language_info": {
   "name": "python",
   "version": "3.10.6"
  },
  "orig_nbformat": 4,
  "vscode": {
   "interpreter": {
    "hash": "608414fe1c3f254b1a6860610d88ca30cbf3a4cc9500ae624968d2dab8956d95"
   }
  }
 },
 "nbformat": 4,
 "nbformat_minor": 2
}
