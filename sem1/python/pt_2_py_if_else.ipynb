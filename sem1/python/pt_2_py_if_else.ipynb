{
 "cells": [
  {
   "cell_type": "markdown",
   "metadata": {},
   "source": [
    "Q1).WRITE A PYTHON PROGRAM TO CHECK WHETHER NUMBER\n",
    "ENTERED IS ODD OR EVEN."
   ]
  },
  {
   "cell_type": "code",
   "execution_count": 2,
   "metadata": {},
   "outputs": [
    {
     "name": "stdout",
     "output_type": "stream",
     "text": [
      "The number 78 is even\n"
     ]
    }
   ],
   "source": [
    "# This is a program to check is number is odd or even.\n",
    "\n",
    "no=int(input(\"Enter a number: \"))\n",
    "if(no%2==0):\n",
    "    print(\"The number %d is even\"%no)\n",
    "else:\n",
    "    print(\"The number %d is odd\"%no)"
   ]
  },
  {
   "cell_type": "markdown",
   "metadata": {},
   "source": [
    "Q2).WAP TO CHECK WHETHER NUMBER ENTERED IS DIVISIBLE BY\n",
    "three OR NOT."
   ]
  },
  {
   "cell_type": "code",
   "execution_count": 3,
   "metadata": {},
   "outputs": [
    {
     "name": "stdout",
     "output_type": "stream",
     "text": [
      "The number 27 is divisible by 3\n"
     ]
    }
   ],
   "source": [
    "# this is a program to check if thee number is divisivle by 3 or not.\n",
    "\n",
    "no=int(input(\"Enter the number: \"))\n",
    "if (no%3==0):\n",
    "    print(\"The number %d is divisible by 3\"%no)\n",
    "else:\n",
    "    print(\"The number %d is not divisible by 3\"%no)"
   ]
  },
  {
   "cell_type": "markdown",
   "metadata": {},
   "source": [
    "Q3).WAP TO CHECK WHETHER THE NUMBER IS DIVISIBLE BY 3 OR\n",
    "7 OR BOTH."
   ]
  },
  {
   "cell_type": "code",
   "execution_count": 11,
   "metadata": {},
   "outputs": [
    {
     "name": "stdout",
     "output_type": "stream",
     "text": [
      "The number 78 is divisible by 3 only.\n"
     ]
    }
   ],
   "source": [
    "# this is program to check is a number is divisible by 3 or 7 or both.\n",
    "\n",
    "no=int(input(\"Enter the number: \"))\n",
    "if (no%3==0 and no%7==0):\n",
    "    print(\"Number %d is divisible by both 3 and 7.\"%no)\n",
    "elif (no%3==0):\n",
    "    print(\"The number %d is divisible by 3 only.\"%no)\n",
    "elif (no%7==0):\n",
    "    print(\"the number is divisible by 7 only.\"%no)\n",
    "else:\n",
    "    print(\"The number %d is not divisible by either 3 or 7.\"%no)"
   ]
  },
  {
   "cell_type": "markdown",
   "metadata": {},
   "source": [
    "Q4). WAP TO ENTER A 4-DIGIT NUMBER AND CHECK WHETHER IT\n",
    "IS A LEAP YEAR OR NOT."
   ]
  },
  {
   "cell_type": "code",
   "execution_count": 14,
   "metadata": {},
   "outputs": [
    {
     "name": "stdout",
     "output_type": "stream",
     "text": [
      "the year 1700 is not a leap year.\n"
     ]
    }
   ],
   "source": [
    "# This is a program to check wether it is a leap year or not\n",
    "\n",
    "year= int(input(\"Enter the number: \"))\n",
    "if((year%4==0 and year%100!=0) or year%400==0):\n",
    "    print(\"The year %d is a leap year\"%year)\n",
    "else:\n",
    "    print(\"the year %d is not a leap year.\"%year)"
   ]
  },
  {
   "cell_type": "markdown",
   "metadata": {},
   "source": [
    "Q5).WAP TO CHECK WHETHER THE NUMBER ENTERED IS\n",
    "POSITIVE,NEGATIVE OR ZERO."
   ]
  },
  {
   "cell_type": "code",
   "execution_count": 20,
   "metadata": {},
   "outputs": [
    {
     "name": "stdout",
     "output_type": "stream",
     "text": [
      "The number -7 is a negative number\n"
     ]
    }
   ],
   "source": [
    "# This is a  program to check if a number is ngative, zero or positive.\n",
    "\n",
    "no=int(input(\"Enter a number: \"))\n",
    "if (no==0):\n",
    "    print(\"Number %d is a zero value number.\"%no)\n",
    "elif (no>0):\n",
    "    print(\"number %d is a positive number\"%no)\n",
    "else:\n",
    "    print(\"The number %d is a negative number\"%no)"
   ]
  },
  {
   "cell_type": "markdown",
   "metadata": {},
   "source": [
    "Q6).WAP TO GRADE THE STUDENTS IN AN ACADEMIC\n",
    "INSTITUTION ACCORDING TO THE FOLLOWING GROUPS:"
   ]
  },
  {
   "cell_type": "code",
   "execution_count": 23,
   "metadata": {},
   "outputs": [
    {
     "name": "stdout",
     "output_type": "stream",
     "text": [
      "Grade = Third\n"
     ]
    }
   ],
   "source": [
    "# This program gardes students in an acadimic institution \n",
    "\n",
    "marks=float(input(\"Enter the marks: \"))\n",
    "if (marks>79):\n",
    "    print(\"Grade = Honors\")\n",
    "elif(marks>=60):\n",
    "    print(\"Grade = First\")\n",
    "elif(marks>=50):\n",
    "    print(\"Grade = Second\")\n",
    "elif(marks>=40):\n",
    "    print(\"Grade = Third\")\n",
    "else:\n",
    "    print(\"Grade = Fail\")"
   ]
  },
  {
   "cell_type": "markdown",
   "metadata": {},
   "source": [
    "Q7).ADMISSON TO A PROFESSIONAL COURSE IS SUBJECT TO THE\n",
    "FOLLOWING CONDITIONS:"
   ]
  },
  {
   "cell_type": "code",
   "execution_count": 27,
   "metadata": {},
   "outputs": [
    {
     "name": "stdout",
     "output_type": "stream",
     "text": [
      "The student is not eligible for the course.\n"
     ]
    }
   ],
   "source": [
    "# This is a program to process the application list for students in a course\n",
    "\n",
    "math=float(input(\"Enter the marks for mathamatics: \"))\n",
    "chem=float(input(\"Enter the marks for Chemistry: \"))\n",
    "phy=float(input(\"Enter the marks for Physics: \"))\n",
    "\n",
    "if((math>=60) \n",
    "    and (phy>=50) \n",
    "    and (chem>=40) \n",
    "    or (math+phy+chem>=200 or math+phy>=150)):\n",
    "            print(\"Student is eligible for the course\")\n",
    "else:\n",
    "    print(\"The student is not eligible for the course.\")"
   ]
  },
  {
   "cell_type": "markdown",
   "metadata": {},
   "source": [
    "Q8).WAP TO COMPUTE THE REAL ROOTS OF A QUADRATIC\n",
    "EQUATION"
   ]
  },
  {
   "cell_type": "code",
   "execution_count": 44,
   "metadata": {},
   "outputs": [
    {
     "name": "stdout",
     "output_type": "stream",
     "text": [
      "Compare the quadratic equation with 'aX^2+bX+c=0' and notedown the values of a,b,c\n",
      "Root of equation are 2.0 5.0\n"
     ]
    }
   ],
   "source": [
    "# This is a program to compute real roots of a quadratic equation\n",
    "from math import sqrt\n",
    "\n",
    "print(\"Compare the quadratic equation with 'aX^2+bX+c=0' and notedown the values of a,b,c\")\n",
    "a=float(input(\"Enter value of 'a': \"))\n",
    "b=float(input(\"Enter value of 'b': \"))\n",
    "c=float(input(\"Enter the value of 'c': \"))\n",
    "\n",
    "d=(b**2)-4*a*c\n",
    "r1=((-1*b)-sqrt(d))/(2*a)\n",
    "r2=((-1*b)+sqrt(d))/(2*a)\n",
    " \n",
    "\n",
    "if (d==0):\n",
    "        print(\"Both roots of equation are equal that is\",r1)\n",
    "elif (d>0):\n",
    "    print(\"Root of equation are\",r1,r2)\n",
    "else:\n",
    "    print(\"The quadratic equation has unreal roots.\")"
   ]
  },
  {
   "cell_type": "markdown",
   "metadata": {},
   "source": [
    "Q9).WAP THAT WILL READ THE VALUE OF X AND EVALUATE THE FOLLOWING FUNCTION    y=1 for x>0    y=0 for x=0    y=-1 for x<0"
   ]
  },
  {
   "cell_type": "code",
   "execution_count": 45,
   "metadata": {},
   "outputs": [
    {
     "name": "stdout",
     "output_type": "stream",
     "text": [
      "value of y is 1\n"
     ]
    }
   ],
   "source": [
    "# This is a code to evaluate the function by reading value of X\n",
    "x=float(input(\"Enter the value of x: \"))\n",
    "if (x>0):\n",
    "    print(\"value of y is 1\")\n",
    "elif(x==0):\n",
    "    print(\"Value of y is 0.\")\n",
    "else:\n",
    "    print(\"Value of y is -1.\")"
   ]
  },
  {
   "cell_type": "markdown",
   "metadata": {},
   "source": [
    "Q10).WAP THAT WILL READ THE VALUE OF X AND EVALUATE THE\n",
    "FOLLOWING FUNCTION.\n",
    "y=4x+100 forx&lt;40\n",
    "300 forx=40\n",
    "4.5+150 forx&gt;40"
   ]
  },
  {
   "cell_type": "code",
   "execution_count": 50,
   "metadata": {},
   "outputs": [
    {
     "name": "stdout",
     "output_type": "stream",
     "text": [
      "Value of y is  200.0\n"
     ]
    }
   ],
   "source": [
    "# This is a program to evaluate the value of a function\n",
    "\n",
    "x=float(input(\"Enter the value of x: \"))\n",
    "if (x<40):\n",
    "    print(\"Value of y is \",(4*x+100))\n",
    "elif(x==40):\n",
    "    print(\"Value of y is 300.\")\n",
    "else:\n",
    "    print(\"Value of y is 154.4\")"
   ]
  }
 ],
 "metadata": {
  "kernelspec": {
   "display_name": "Python 3.10.6 64-bit",
   "language": "python",
   "name": "python3"
  },
  "language_info": {
   "codemirror_mode": {
    "name": "ipython",
    "version": 3
   },
   "file_extension": ".py",
   "mimetype": "text/x-python",
   "name": "python",
   "nbconvert_exporter": "python",
   "pygments_lexer": "ipython3",
   "version": "3.10.6"
  },
  "orig_nbformat": 4,
  "vscode": {
   "interpreter": {
    "hash": "608414fe1c3f254b1a6860610d88ca30cbf3a4cc9500ae624968d2dab8956d95"
   }
  }
 },
 "nbformat": 4,
 "nbformat_minor": 2
}
