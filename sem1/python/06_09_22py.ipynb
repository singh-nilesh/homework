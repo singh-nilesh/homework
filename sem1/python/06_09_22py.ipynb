{
 "cells": [
  {
   "cell_type": "markdown",
   "metadata": {},
   "source": [
    "Q1) numbers is zero or non-zero value."
   ]
  },
  {
   "cell_type": "code",
   "execution_count": 1,
   "metadata": {},
   "outputs": [
    {
     "name": "stdout",
     "output_type": "stream",
     "text": [
      "The number 6 is a non zero value\n"
     ]
    }
   ],
   "source": [
    "# this program reads value of n and checks if the numbers is zero or non-zero value.\n",
    "\n",
    "no = float(input(\"enter a number:\")) \n",
    "if no==0:\n",
    "    print(\"The number %d is a zero value\"%no)\n",
    "else:\n",
    "    print(\"The number %d is a non zero value\"%no)"
   ]
  },
  {
   "cell_type": "markdown",
   "metadata": {},
   "source": [
    "Q2) largest of two numbers"
   ]
  },
  {
   "cell_type": "code",
   "execution_count": 2,
   "metadata": {},
   "outputs": [
    {
     "name": "stdout",
     "output_type": "stream",
     "text": [
      "5 is greater than 3\n"
     ]
    }
   ],
   "source": [
    "# This program finds largest of two numbers\n",
    "no_1 = float(input(\"Enter 1st number:\"))\n",
    "no_2 = float(input(\"Enter 2nd number:\"))\n",
    "if no_1>no_2:\n",
    "    print(\"number %d is greater than %d\"%(no_1,no_2))\n",
    "elif no_1==no_2:\n",
    "    print(\"Numbers %d & %d are equal\"%(no_1,no_2))\n",
    "else:\n",
    "    print(\"%d is greater than %d\"%(no_2,no_1))"
   ]
  },
  {
   "cell_type": "markdown",
   "metadata": {},
   "source": [
    "Q3)"
   ]
  },
  {
   "cell_type": "code",
   "execution_count": null,
   "metadata": {},
   "outputs": [],
   "source": []
  },
  {
   "cell_type": "markdown",
   "metadata": {},
   "source": [
    "Q4). charecter entered is vowel or consonent"
   ]
  },
  {
   "cell_type": "code",
   "execution_count": 3,
   "metadata": {},
   "outputs": [
    {
     "name": "stdout",
     "output_type": "stream",
     "text": [
      "n is a consonent\n"
     ]
    }
   ],
   "source": [
    "#This program checks either the charecter entered is vowel or consonent\n",
    "\n",
    "char = input(\"Enter any one alphabetic letter:\")\n",
    "\n",
    "if char=='a':\n",
    "    print(\"%s is a vowel\"%char)\n",
    "elif char=='e':\n",
    "    print(\"%s is a vowel\"%char)\n",
    "elif char=='i':\n",
    "    print(\"%s is a vowel\"%char)\n",
    "elif char=='o':\n",
    "    print(\"%s is a vowel\"%char)\n",
    "elif char=='u':\n",
    "    print(\"%s is a vowel\"%char)\n",
    "else:\n",
    "    print(\"%s is a consonent\"%char)"
   ]
  },
  {
   "cell_type": "markdown",
   "metadata": {},
   "source": [
    "Q5). complements students based on their score"
   ]
  },
  {
   "cell_type": "code",
   "execution_count": 4,
   "metadata": {},
   "outputs": [
    {
     "name": "stdout",
     "output_type": "stream",
     "text": [
      "You performed good in.\n"
     ]
    }
   ],
   "source": [
    "# This program complements students based on their score\n",
    "\n",
    "score= float(input(\"Enter your score:\"))\n",
    "\n",
    "if score>=90:\n",
    "    print(\"Exellent perfomance!!!!!!\")\n",
    "elif score>=80:\n",
    "    print(\"You performed very good!!\")\n",
    "elif score>=70:\n",
    "    print(\"You performed good in.\")\n",
    "elif score>=60:\n",
    "    print(\"It's ok, you performed average.\")\n",
    "else:\n",
    "    print(\"you are hopeless, you performed poorly!!!!!!!\")"
   ]
  },
  {
   "cell_type": "markdown",
   "metadata": {},
   "source": [
    "Q6). displays largest of three numbers"
   ]
  },
  {
   "cell_type": "code",
   "execution_count": 5,
   "metadata": {},
   "outputs": [
    {
     "name": "stdout",
     "output_type": "stream",
     "text": [
      "87 is the greatest among three numbers\n"
     ]
    }
   ],
   "source": [
    "# this program displays largest of three numbers\n",
    "\n",
    "no_1= float(input(\"Enter 1st number:\"))\n",
    "no_2= float(input(\"Enter 2nd number:\"))\n",
    "no_3= float(input(\"Enter 3rd number:\"))\n",
    "\n",
    "if no_1>no_2>no_3 or no_1>no_3>no_2:\n",
    "    print(\"%d is the greatest among three numbers\"%no_1)\n",
    "elif no_2>no_1>no_3 or no_2>no_3>no_1:\n",
    "    print(\"%d is the greatest among three numbers\"%no_2)\n",
    "else:\n",
    "    print(\"%d is the greatest among three numbers\"%no_3)"
   ]
  },
  {
   "cell_type": "markdown",
   "metadata": {},
   "source": [
    "Q7). smallest of three numbers"
   ]
  },
  {
   "cell_type": "code",
   "execution_count": 6,
   "metadata": {},
   "outputs": [
    {
     "name": "stdout",
     "output_type": "stream",
     "text": [
      "45 is the smallest among three numbers\n"
     ]
    }
   ],
   "source": [
    "# this program displays smallest of three numbers\n",
    "\n",
    "no_1= float(input(\"Enter 1st number:\"))\n",
    "no_2= float(input(\"Enter 2nd number:\"))\n",
    "no_3= float(input(\"Enter 3rd number:\"))\n",
    "\n",
    "if no_1<no_2<no_3 or no_1<no_3<no_2:\n",
    "    print(\"%d is the smallest among three numbers\"%no_1)\n",
    "elif no_2<no_1<no_3 or no_2<no_3<no_1:\n",
    "    print(\"%d is the smallest among three numbers\"%no_2)\n",
    "else:\n",
    "    print(\"%d is the smallest among three numbers\"%no_3)"
   ]
  },
  {
   "cell_type": "markdown",
   "metadata": {},
   "source": [
    "Q8). check wether the number is even or odd"
   ]
  },
  {
   "cell_type": "code",
   "execution_count": 7,
   "metadata": {},
   "outputs": [
    {
     "name": "stdout",
     "output_type": "stream",
     "text": [
      "The number 78 is even\n"
     ]
    }
   ],
   "source": [
    "# this program check wether the number is even or odd\n",
    "num= int(input(\"Enter the number\"))\n",
    "if num%2==0:\n",
    "    print(\"The number %d is even\"%num)\n",
    "else:\n",
    "    print(\"The number %d is odd\"%num)"
   ]
  },
  {
   "cell_type": "markdown",
   "metadata": {},
   "source": [
    "Q9). tels if the year entered is leap year or not"
   ]
  },
  {
   "cell_type": "code",
   "execution_count": 10,
   "metadata": {},
   "outputs": [
    {
     "name": "stdout",
     "output_type": "stream",
     "text": [
      " The tear 1800 is not a leap year\n"
     ]
    }
   ],
   "source": [
    "# This program tels if the year entered is leap year or not\n",
    "\n",
    "year= int(input(\"Enter the yeat:\"))\n",
    "if ((year%4==0 and year%100!=0) or year%400==0):\n",
    "    print(\" The year %d is a leap year\"%year)\n",
    "else:\n",
    "    print(\" The tear %d is not a leap year\"%year)"
   ]
  },
  {
   "cell_type": "markdown",
   "metadata": {},
   "source": [
    "10). displays if the driver is insured or not"
   ]
  },
  {
   "cell_type": "code",
   "execution_count": 12,
   "metadata": {},
   "outputs": [
    {
     "name": "stdout",
     "output_type": "stream",
     "text": [
      "your are not eligible for insurense.\n"
     ]
    }
   ],
   "source": [
    "# this program displays if the driver is insured or not\n",
    "\n",
    "mar_stat= input('''are you married?\n",
    "press \"y\" if yes\n",
    "Press \"n\" if not  ''')\n",
    "age= int(input(\"What is your age:\"))\n",
    "gender= input(''' Enter \"m\" if your are male\n",
    "Enter \"f\" if you are femail''')\n",
    "\n",
    "if mar_stat=='y':\n",
    "        print(\"your are eligible for insurense.\")\n",
    "else:\n",
    "    if age>30:\n",
    "        if gender=='m':\n",
    "            print(\"your are not eligible for insurense.\")\n",
    "    elif age>25:\n",
    "            if gender=='f':\n",
    "             print(\"your are not eligible for insurense.\")\n",
    "            else:\n",
    "                print(\"your are eligible for insurense.\")"
   ]
  }
 ],
 "metadata": {
  "kernelspec": {
   "display_name": "Python 3.10.6 64-bit",
   "language": "python",
   "name": "python3"
  },
  "language_info": {
   "codemirror_mode": {
    "name": "ipython",
    "version": 3
   },
   "file_extension": ".py",
   "mimetype": "text/x-python",
   "name": "python",
   "nbconvert_exporter": "python",
   "pygments_lexer": "ipython3",
   "version": "3.10.6"
  },
  "orig_nbformat": 4,
  "vscode": {
   "interpreter": {
    "hash": "608414fe1c3f254b1a6860610d88ca30cbf3a4cc9500ae624968d2dab8956d95"
   }
  }
 },
 "nbformat": 4,
 "nbformat_minor": 2
}
